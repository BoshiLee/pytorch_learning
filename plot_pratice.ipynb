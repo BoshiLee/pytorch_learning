{
  "nbformat": 4,
  "nbformat_minor": 0,
  "metadata": {
    "colab": {
      "name": "plot_pratice.ipynb",
      "provenance": [],
      "authorship_tag": "ABX9TyO3OPMDDugSpbdSzZ1UgADR",
      "include_colab_link": true
    },
    "kernelspec": {
      "name": "python3",
      "display_name": "Python 3"
    },
    "language_info": {
      "name": "python"
    }
  },
  "cells": [
    {
      "cell_type": "markdown",
      "metadata": {
        "id": "view-in-github",
        "colab_type": "text"
      },
      "source": [
        "<a href=\"https://colab.research.google.com/github/BoshiLee/pytorch_learning/blob/main/plot_pratice.ipynb\" target=\"_parent\"><img src=\"https://colab.research.google.com/assets/colab-badge.svg\" alt=\"Open In Colab\"/></a>"
      ]
    },
    {
      "cell_type": "code",
      "execution_count": null,
      "metadata": {
        "colab": {
          "base_uri": "https://localhost:8080/"
        },
        "id": "e_NdL-WhUzU_",
        "outputId": "f1b9e6c3-9dcc-47fd-eef1-30e0eea5ceba"
      },
      "outputs": [
        {
          "output_type": "stream",
          "name": "stdout",
          "text": [
            "Requirement already satisfied: torch in /usr/local/lib/python3.7/dist-packages (1.10.0+cu111)\n",
            "Requirement already satisfied: typing-extensions in /usr/local/lib/python3.7/dist-packages (from torch) (3.10.0.2)\n"
          ]
        }
      ],
      "source": [
        "pip install torch"
      ]
    },
    {
      "cell_type": "markdown",
      "source": [
        "impor 必要套件"
      ],
      "metadata": {
        "id": "wOoGcD4vX3kW"
      }
    },
    {
      "cell_type": "markdown",
      "source": [
        "Dot\n",
        "\n",
        "![20160902214456788.jpg](data:image/jpeg;base64,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)"
      ],
      "metadata": {
        "id": "bQMCfZg0cdXl"
      }
    },
    {
      "cell_type": "code",
      "source": [
        "import numpy as np\n",
        "import torch\n",
        "import matplotlib.pyplot as plt\n"
      ],
      "metadata": {
        "id": "YthRe-HyXuT0"
      },
      "execution_count": null,
      "outputs": []
    },
    {
      "cell_type": "code",
      "source": [
        "torch.dot(torch.tensor([2, 3]), torch.tensor([2, 1]))"
      ],
      "metadata": {
        "colab": {
          "base_uri": "https://localhost:8080/"
        },
        "id": "T4EsRS1dcX-r",
        "outputId": "da4b9feb-679f-48fe-feca-9cef6764aa6e"
      },
      "execution_count": null,
      "outputs": [
        {
          "output_type": "execute_result",
          "data": {
            "text/plain": [
              "tensor(7)"
            ]
          },
          "metadata": {},
          "execution_count": 3
        }
      ]
    },
    {
      "cell_type": "markdown",
      "source": [
        "Unlike NumPy’s dot, torch.dot intentionally only supports computing the dot product of two 1D tensors with the same number of elements."
      ],
      "metadata": {
        "id": "jJO--ATccY6Q"
      }
    },
    {
      "cell_type": "markdown",
      "source": [
        "linespace: 預設建立一個等距的陣列 假設給定起始點0, 終點 100"
      ],
      "metadata": {
        "id": "bb9h9PQ0dcZ4"
      }
    },
    {
      "cell_type": "code",
      "source": [
        "torch.linspace(0, 10)"
      ],
      "metadata": {
        "colab": {
          "base_uri": "https://localhost:8080/"
        },
        "id": "cO6XLVDTdPlH",
        "outputId": "6ba0eec3-e250-42da-e844-0c49713da1ab"
      },
      "execution_count": null,
      "outputs": [
        {
          "output_type": "stream",
          "name": "stderr",
          "text": [
            "/usr/local/lib/python3.7/dist-packages/ipykernel_launcher.py:1: UserWarning: Not providing a value for linspace's steps is deprecated and will throw a runtime error in a future release. This warning will appear only once per process. (Triggered internally at  ../aten/src/ATen/native/RangeFactories.cpp:23.)\n",
            "  \"\"\"Entry point for launching an IPython kernel.\n"
          ]
        },
        {
          "output_type": "execute_result",
          "data": {
            "text/plain": [
              "tensor([ 0.0000,  0.1010,  0.2020,  0.3030,  0.4040,  0.5051,  0.6061,  0.7071,\n",
              "         0.8081,  0.9091,  1.0101,  1.1111,  1.2121,  1.3131,  1.4141,  1.5152,\n",
              "         1.6162,  1.7172,  1.8182,  1.9192,  2.0202,  2.1212,  2.2222,  2.3232,\n",
              "         2.4242,  2.5253,  2.6263,  2.7273,  2.8283,  2.9293,  3.0303,  3.1313,\n",
              "         3.2323,  3.3333,  3.4343,  3.5354,  3.6364,  3.7374,  3.8384,  3.9394,\n",
              "         4.0404,  4.1414,  4.2424,  4.3434,  4.4444,  4.5455,  4.6465,  4.7475,\n",
              "         4.8485,  4.9495,  5.0505,  5.1515,  5.2525,  5.3535,  5.4545,  5.5556,\n",
              "         5.6566,  5.7576,  5.8586,  5.9596,  6.0606,  6.1616,  6.2626,  6.3636,\n",
              "         6.4646,  6.5657,  6.6667,  6.7677,  6.8687,  6.9697,  7.0707,  7.1717,\n",
              "         7.2727,  7.3737,  7.4747,  7.5758,  7.6768,  7.7778,  7.8788,  7.9798,\n",
              "         8.0808,  8.1818,  8.2828,  8.3838,  8.4848,  8.5859,  8.6869,  8.7879,\n",
              "         8.8889,  8.9899,  9.0909,  9.1919,  9.2929,  9.3939,  9.4950,  9.5960,\n",
              "         9.6970,  9.7980,  9.8990, 10.0000])"
            ]
          },
          "metadata": {},
          "execution_count": 4
        }
      ]
    },
    {
      "cell_type": "markdown",
      "source": [
        "也可以規定要有幾個間格 假設間距為 5\n",
        "\n"
      ],
      "metadata": {
        "id": "49PWxwkud0GV"
      }
    },
    {
      "cell_type": "code",
      "source": [
        "torch.linspace(0, 10, 5)"
      ],
      "metadata": {
        "colab": {
          "base_uri": "https://localhost:8080/"
        },
        "id": "JLlHFh-5eAB5",
        "outputId": "84481c56-40fe-4d47-9b41-26b8ac4a1e82"
      },
      "execution_count": null,
      "outputs": [
        {
          "output_type": "execute_result",
          "data": {
            "text/plain": [
              "tensor([ 0.0000,  2.5000,  5.0000,  7.5000, 10.0000])"
            ]
          },
          "metadata": {},
          "execution_count": 6
        }
      ]
    },
    {
      "cell_type": "markdown",
      "source": [
        "給一個Ｘ向量 使y 對應Ｘ的每一個 exp"
      ],
      "metadata": {
        "id": "o8UtEiaHgTl4"
      }
    },
    {
      "cell_type": "code",
      "source": [
        "x = torch.linspace(0, 10, 200)\n",
        "y = torch.exp(x)\n",
        "print(y)"
      ],
      "metadata": {
        "colab": {
          "base_uri": "https://localhost:8080/"
        },
        "id": "J5NIwTfggRpE",
        "outputId": "3db128c3-aca8-49b1-889f-333fd3f7ed4a"
      },
      "execution_count": null,
      "outputs": [
        {
          "output_type": "stream",
          "name": "stdout",
          "text": [
            "tensor([1.0000e+00, 1.0515e+00, 1.1057e+00, 1.1627e+00, 1.2226e+00, 1.2856e+00,\n",
            "        1.3519e+00, 1.4216e+00, 1.4948e+00, 1.5719e+00, 1.6529e+00, 1.7380e+00,\n",
            "        1.8276e+00, 1.9218e+00, 2.0208e+00, 2.1250e+00, 2.2345e+00, 2.3497e+00,\n",
            "        2.4708e+00, 2.5981e+00, 2.7320e+00, 2.8728e+00, 3.0208e+00, 3.1765e+00,\n",
            "        3.3402e+00, 3.5123e+00, 3.6933e+00, 3.8837e+00, 4.0838e+00, 4.2943e+00,\n",
            "        4.5156e+00, 4.7483e+00, 4.9930e+00, 5.2503e+00, 5.5209e+00, 5.8054e+00,\n",
            "        6.1046e+00, 6.4192e+00, 6.7500e+00, 7.0979e+00, 7.4637e+00, 7.8483e+00,\n",
            "        8.2528e+00, 8.6781e+00, 9.1253e+00, 9.5956e+00, 1.0090e+01, 1.0610e+01,\n",
            "        1.1157e+01, 1.1732e+01, 1.2337e+01, 1.2972e+01, 1.3641e+01, 1.4344e+01,\n",
            "        1.5083e+01, 1.5860e+01, 1.6678e+01, 1.7537e+01, 1.8441e+01, 1.9391e+01,\n",
            "        2.0391e+01, 2.1441e+01, 2.2546e+01, 2.3708e+01, 2.4930e+01, 2.6215e+01,\n",
            "        2.7566e+01, 2.8987e+01, 3.0480e+01, 3.2051e+01, 3.3703e+01, 3.5440e+01,\n",
            "        3.7266e+01, 3.9187e+01, 4.1206e+01, 4.3330e+01, 4.5563e+01, 4.7911e+01,\n",
            "        5.0380e+01, 5.2977e+01, 5.5707e+01, 5.8578e+01, 6.1596e+01, 6.4771e+01,\n",
            "        6.8109e+01, 7.1619e+01, 7.5310e+01, 7.9191e+01, 8.3272e+01, 8.7563e+01,\n",
            "        9.2076e+01, 9.6821e+01, 1.0181e+02, 1.0706e+02, 1.1257e+02, 1.1838e+02,\n",
            "        1.2448e+02, 1.3089e+02, 1.3764e+02, 1.4473e+02, 1.5219e+02, 1.6003e+02,\n",
            "        1.6828e+02, 1.7695e+02, 1.8607e+02, 1.9566e+02, 2.0574e+02, 2.1635e+02,\n",
            "        2.2750e+02, 2.3922e+02, 2.5155e+02, 2.6451e+02, 2.7814e+02, 2.9248e+02,\n",
            "        3.0755e+02, 3.2340e+02, 3.4007e+02, 3.5759e+02, 3.7602e+02, 3.9540e+02,\n",
            "        4.1578e+02, 4.3721e+02, 4.5974e+02, 4.8343e+02, 5.0834e+02, 5.3454e+02,\n",
            "        5.6209e+02, 5.9106e+02, 6.2152e+02, 6.5355e+02, 6.8723e+02, 7.2264e+02,\n",
            "        7.5988e+02, 7.9905e+02, 8.4022e+02, 8.8353e+02, 9.2906e+02, 9.7694e+02,\n",
            "        1.0273e+03, 1.0802e+03, 1.1359e+03, 1.1944e+03, 1.2560e+03, 1.3207e+03,\n",
            "        1.3888e+03, 1.4604e+03, 1.5356e+03, 1.6147e+03, 1.6980e+03, 1.7855e+03,\n",
            "        1.8775e+03, 1.9742e+03, 2.0760e+03, 2.1830e+03, 2.2955e+03, 2.4138e+03,\n",
            "        2.5382e+03, 2.6690e+03, 2.8065e+03, 2.9511e+03, 3.1032e+03, 3.2632e+03,\n",
            "        3.4313e+03, 3.6082e+03, 3.7941e+03, 3.9896e+03, 4.1953e+03, 4.4115e+03,\n",
            "        4.6388e+03, 4.8779e+03, 5.1292e+03, 5.3936e+03, 5.6715e+03, 5.9638e+03,\n",
            "        6.2712e+03, 6.5944e+03, 6.9342e+03, 7.2916e+03, 7.6673e+03, 8.0625e+03,\n",
            "        8.4780e+03, 8.9149e+03, 9.3743e+03, 9.8574e+03, 1.0365e+04, 1.0900e+04,\n",
            "        1.1461e+04, 1.2052e+04, 1.2673e+04, 1.3326e+04, 1.4013e+04, 1.4735e+04,\n",
            "        1.5495e+04, 1.6293e+04, 1.7133e+04, 1.8016e+04, 1.8944e+04, 1.9920e+04,\n",
            "        2.0947e+04, 2.2026e+04])\n"
          ]
        }
      ]
    },
    {
      "cell_type": "markdown",
      "source": [
        "畫出 plot 圖\n",
        "matplot 使用 numpy 陣列型別"
      ],
      "metadata": {
        "id": "zduxYI7cguIk"
      }
    },
    {
      "cell_type": "code",
      "source": [
        "plt.plot(x.numpy(), y.numpy())"
      ],
      "metadata": {
        "colab": {
          "base_uri": "https://localhost:8080/",
          "height": 282
        },
        "id": "SKxLzfyxgxIe",
        "outputId": "afe5a2f5-dd8c-44f8-e070-c4cc556a4fd4"
      },
      "execution_count": null,
      "outputs": [
        {
          "output_type": "execute_result",
          "data": {
            "text/plain": [
              "[<matplotlib.lines.Line2D at 0x7f91d17bcad0>]"
            ]
          },
          "metadata": {},
          "execution_count": 15
        },
        {
          "output_type": "display_data",
          "data": {
            "image/png": "[encoded data removed]",
            "text/plain": [
              "<Figure size 432x288 with 1 Axes>"
            ]
          },
          "metadata": {
            "needs_background": "light"
          }
        }
      ]
    }
  ]
}