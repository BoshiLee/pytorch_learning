{
  "nbformat": 4,
  "nbformat_minor": 0,
  "metadata": {
    "colab": {
      "name": "Mean_squar_error.ipynb",
      "provenance": [],
      "authorship_tag": "ABX9TyPWUv0FCZyM5gCflVyzEDQZ",
      "include_colab_link": true
    },
    "kernelspec": {
      "name": "python3",
      "display_name": "Python 3"
    },
    "language_info": {
      "name": "python"
    }
  },
  "cells": [
    {
      "cell_type": "markdown",
      "metadata": {
        "id": "view-in-github",
        "colab_type": "text"
      },
      "source": [
        "<a href=\"https://colab.research.google.com/github/BoshiLee/pytorch_learning/blob/main/Mean_squar_error.ipynb\" target=\"_parent\"><img src=\"https://colab.research.google.com/assets/colab-badge.svg\" alt=\"Open In Colab\"/></a>"
      ]
    },
    {
      "cell_type": "markdown",
      "source": [
        "![mse.jpg](https://imgur.com/q5teKV2.jpg)"
      ],
      "metadata": {
        "id": "0G8sY18zBLTf"
      }
    },
    {
      "cell_type": "code",
      "execution_count": 78,
      "metadata": {
        "colab": {
          "base_uri": "https://localhost:8080/"
        },
        "id": "-qxdZf2yA0Wp",
        "outputId": "08411b72-bc7e-42ea-918f-8708439a79ba"
      },
      "outputs": [
        {
          "output_type": "stream",
          "name": "stdout",
          "text": [
            "Requirement already satisfied: torch in /usr/local/lib/python3.7/dist-packages (1.10.0+cu111)\n",
            "Requirement already satisfied: typing-extensions in /usr/local/lib/python3.7/dist-packages (from torch) (3.10.0.2)\n"
          ]
        }
      ],
      "source": [
        "!pip3 install torch"
      ]
    },
    {
      "cell_type": "code",
      "source": [
        "import torch\n",
        "import torch.nn as nn\n",
        "import matplotlib.pyplot as plt\n",
        "import numpy as np"
      ],
      "metadata": {
        "id": "DfgYI1CYEd_o"
      },
      "execution_count": 79,
      "outputs": []
    },
    {
      "cell_type": "code",
      "source": [
        "X = torch.randn(100, 1)*10\n",
        "Y = X + 3*torch.randn(100, 1)\n",
        "plt.xlabel = 'x'\n",
        "plt.ylabel = 'y'\n",
        "plt.plot(X.numpy(), Y.numpy(), 'o')"
      ],
      "metadata": {
        "colab": {
          "base_uri": "https://localhost:8080/",
          "height": 282
        },
        "id": "vasI26zyFJ2W",
        "outputId": "b68ffadb-dc43-4378-a362-8ae22c8ec5c6"
      },
      "execution_count": 80,
      "outputs": [
        {
          "output_type": "execute_result",
          "data": {
            "text/plain": [
              "[<matplotlib.lines.Line2D at 0x7f7d47103490>]"
            ]
          },
          "metadata": {},
          "execution_count": 80
        },
        {
          "output_type": "display_data",
          "data": {
            "image/png": "[encoded data removed]",
            "text/plain": [
              "<Figure size 432x288 with 1 Axes>"
            ]
          },
          "metadata": {
            "needs_background": "light"
          }
        }
      ]
    },
    {
      "cell_type": "code",
      "source": [
        "class LR(nn.Module): # 繼承 nn.Module\n",
        "  def __init__(self, input_size, output_size):\n",
        "    super(LR, self).__init__() # 必須先呼叫父層的 __init__\n",
        "    self.linear = nn.Linear(input_size, output_size) # 建立自己的 linear module\n",
        "  \n",
        "  def forward(self, inputX):\n",
        "    prediction = self.linear(inputX)\n",
        "    return prediction"
      ],
      "metadata": {
        "id": "9JJ_V0RKEigY"
      },
      "execution_count": 146,
      "outputs": []
    },
    {
      "cell_type": "code",
      "source": [
        "torch.manual_seed(1)\n",
        "model = LR(1, 1)"
      ],
      "metadata": {
        "id": "BeYHplX7Ees2"
      },
      "execution_count": 148,
      "outputs": []
    },
    {
      "cell_type": "code",
      "source": [
        "def get_parameters(model: LR):\n",
        "  [w, b] = model.parameters()\n",
        "  w1 = w[0][0].item()\n",
        "  b1 = b[0].item()\n",
        "  return w1, b1"
      ],
      "metadata": {
        "id": "4MYIJbuHEms_"
      },
      "execution_count": 149,
      "outputs": []
    },
    {
      "cell_type": "code",
      "source": [
        "def fit_plot(title: str):\n",
        "  plt.title = title\n",
        "  w1, b1 = get_parameters(lr)\n",
        "  x1 = X.numpy()\n",
        "  y1 = w1*x1+b1\n",
        "  plt.plot(x1, y1, 'r')\n",
        "  plt.scatter(X, Y,) # 散佈圖\n",
        "  plt.show()"
      ],
      "metadata": {
        "id": "t9Tr6EWWEu29"
      },
      "execution_count": 150,
      "outputs": []
    },
    {
      "cell_type": "code",
      "source": [
        "fit_plot('init model')"
      ],
      "metadata": {
        "colab": {
          "base_uri": "https://localhost:8080/",
          "height": 265
        },
        "id": "mXbMwo0wEvqm",
        "outputId": "dfe320c0-ffa4-438c-e8eb-4cf75e963d74"
      },
      "execution_count": 151,
      "outputs": [
        {
          "output_type": "display_data",
          "data": {
            "image/png": "[encoded data removed]",
            "text/plain": [
              "<Figure size 432x288 with 1 Axes>"
            ]
          },
          "metadata": {
            "needs_background": "light"
          }
        }
      ]
    },
    {
      "cell_type": "code",
      "source": [
        "criterion = nn.MSELoss()\n",
        "optimizer = torch.optim.SGD(model.parameters(), lr=0.01)"
      ],
      "metadata": {
        "id": "XttTDDsXEy0R"
      },
      "execution_count": 152,
      "outputs": []
    },
    {
      "cell_type": "code",
      "source": [
        "epochs = 100\n",
        "losses = []"
      ],
      "metadata": {
        "id": "FdDHU70cLjmJ"
      },
      "execution_count": 153,
      "outputs": []
    },
    {
      "cell_type": "code",
      "source": [
        "for e in range(epochs):\n",
        "  y_pred = model.forward(X)\n",
        "  loss = criterion(y_pred, Y)\n",
        "  print(\"epoch:\", e, \"loss=\" ,loss.item())\n",
        "  losses.append(loss)\n",
        "  optimizer.zero_grad()\n",
        "  loss.backward()\n",
        "  optimizer.step()\n",
        "\n"
      ],
      "metadata": {
        "colab": {
          "base_uri": "https://localhost:8080/"
        },
        "id": "NqjJSd10LjZt",
        "outputId": "5b39b6e8-336c-4a04-cd11-8f7fbc22ecd7"
      },
      "execution_count": 156,
      "outputs": [
        {
          "output_type": "stream",
          "name": "stdout",
          "text": [
            "epoch: 0 loss= 1.3833937784874855e+22\n",
            "epoch: 1 loss= 1.7555923060216413e+22\n",
            "epoch: 2 loss= 2.227928033500408e+22\n",
            "epoch: 3 loss= 2.827344308644483e+22\n",
            "epoch: 4 loss= 3.588031784284919e+22\n",
            "epoch: 5 loss= 4.5533824176514495e+22\n",
            "epoch: 6 loss= 5.778455641528436e+22\n",
            "epoch: 7 loss= 7.333129758094123e+22\n",
            "epoch: 8 loss= 9.306076140411808e+22\n",
            "epoch: 9 loss= 1.1809852353248435e+23\n",
            "epoch: 10 loss= 1.4987251778189228e+23\n",
            "epoch: 11 loss= 1.9019519080077935e+23\n",
            "epoch: 12 loss= 2.413665849620392e+23\n",
            "epoch: 13 loss= 3.063053750977796e+23\n",
            "epoch: 14 loss= 3.887157719015128e+23\n",
            "epoch: 15 loss= 4.932988308226717e+23\n",
            "epoch: 16 loss= 6.260184346606025e+23\n",
            "epoch: 17 loss= 7.944462873104194e+23\n",
            "epoch: 18 loss= 1.0081897196988086e+24\n",
            "epoch: 19 loss= 1.2794393635275124e+24\n",
            "epoch: 20 loss= 1.6236668489276025e+24\n",
            "epoch: 21 loss= 2.060509095253513e+24\n",
            "epoch: 22 loss= 2.614881024450174e+24\n",
            "epoch: 23 loss= 3.318406696928199e+24\n",
            "epoch: 24 loss= 4.2112089339694104e+24\n",
            "epoch: 25 loss= 5.34422524879922e+24\n",
            "epoch: 26 loss= 6.782071703604071e+24\n",
            "epoch: 27 loss= 8.606760216692667e+24\n",
            "epoch: 28 loss= 1.0922380576726179e+25\n",
            "epoch: 29 loss= 1.3861005706664845e+25\n",
            "epoch: 30 loss= 1.7590268663896245e+25\n",
            "epoch: 31 loss= 2.2322852337139716e+25\n",
            "epoch: 32 loss= 2.8328710990855943e+25\n",
            "epoch: 33 loss= 3.595046061441195e+25\n",
            "epoch: 34 loss= 4.562281948449179e+25\n",
            "epoch: 35 loss= 5.789746284689284e+25\n",
            "epoch: 36 loss= 7.347454379046179e+25\n",
            "epoch: 37 loss= 9.324265581228727e+25\n",
            "epoch: 38 loss= 1.1832925007509635e+26\n",
            "epoch: 39 loss= 1.501652681868028e+26\n",
            "epoch: 40 loss= 1.905665615171624e+26\n",
            "epoch: 41 loss= 2.4183792161097664e+26\n",
            "epoch: 42 loss= 3.0690357245567015e+26\n",
            "epoch: 43 loss= 3.894744824500392e+26\n",
            "epoch: 44 loss= 4.9426106458679375e+26\n",
            "epoch: 45 loss= 6.272399901588393e+26\n",
            "epoch: 46 loss= 7.959964127553327e+26\n",
            "epoch: 47 loss= 1.0101560279013763e+27\n",
            "epoch: 48 loss= 1.281935376327225e+27\n",
            "epoch: 49 loss= 1.6268354784389458e+27\n",
            "epoch: 50 loss= 2.0645296392171973e+27\n",
            "epoch: 51 loss= 2.6199857481266744e+27\n",
            "epoch: 52 loss= 3.3248851288832813e+27\n",
            "epoch: 53 loss= 4.219436223331459e+27\n",
            "epoch: 54 loss= 5.354661249839562e+27\n",
            "epoch: 55 loss= 6.795313592768605e+27\n",
            "epoch: 56 loss= 8.623562428920519e+27\n",
            "epoch: 57 loss= 1.094370181236529e+28\n",
            "epoch: 58 loss= 1.3888065438460755e+28\n",
            "epoch: 59 loss= 1.7624598958507878e+28\n",
            "epoch: 60 loss= 2.236644284193612e+28\n",
            "epoch: 61 loss= 2.838406000372725e+28\n",
            "epoch: 62 loss= 3.6020681484589204e+28\n",
            "epoch: 63 loss= 4.5711931425467256e+28\n",
            "epoch: 64 loss= 5.801053685016564e+28\n",
            "epoch: 65 loss= 7.361805252337948e+28\n",
            "epoch: 66 loss= 9.342476730865824e+28\n",
            "epoch: 67 loss= 1.1856034682656809e+29\n",
            "epoch: 68 loss= 1.504585629320725e+29\n",
            "epoch: 69 loss= 1.909386317548333e+29\n",
            "epoch: 70 loss= 2.4230998884436604e+29\n",
            "epoch: 71 loss= 3.075028626032913e+29\n",
            "epoch: 72 loss= 3.90235549952891e+29\n",
            "epoch: 73 loss= 4.9522667726178034e+29\n",
            "epoch: 74 loss= 6.284659052821719e+29\n",
            "epoch: 75 loss= 7.975523906004357e+29\n",
            "epoch: 76 loss= 1.0121306033950706e+30\n",
            "epoch: 77 loss= 1.2844415220525844e+30\n",
            "epoch: 78 loss= 1.6300153854410654e+30\n",
            "epoch: 79 loss= 2.0685639557229212e+30\n",
            "epoch: 80 loss= 2.6251038371148923e+30\n",
            "epoch: 81 loss= 3.331381874987241e+30\n",
            "epoch: 82 loss= 4.227679779880982e+30\n",
            "epoch: 83 loss= 5.365119700161614e+30\n",
            "epoch: 84 loss= 6.808587404650948e+30\n",
            "epoch: 85 loss= 8.640409230507466e+30\n",
            "epoch: 86 loss= 1.0965082912189927e+31\n",
            "epoch: 87 loss= 1.3915196784501655e+31\n",
            "epoch: 88 loss= 1.7659017605497352e+31\n",
            "epoch: 89 loss= 2.241011421047014e+31\n",
            "epoch: 90 loss= 2.8439491500403027e+31\n",
            "epoch: 91 loss= 3.6091039305017773e+31\n",
            "epoch: 92 loss= 4.580119918800837e+31\n",
            "epoch: 93 loss= 5.812383326007635e+31\n",
            "epoch: 94 loss= 7.376175296430631e+31\n",
            "epoch: 95 loss= 9.360705851291484e+31\n",
            "epoch: 96 loss= 1.1879172034354317e+32\n",
            "epoch: 97 loss= 1.5075222763638692e+32\n",
            "epoch: 98 loss= 1.9131154381335938e+32\n",
            "epoch: 99 loss= 2.4278321439397345e+32\n"
          ]
        }
      ]
    },
    {
      "cell_type": "markdown",
      "source": [
        "[Epoch, Batch size, Iteration, Learning Rate 名詞解釋](https://medium.com/%E4%BA%BA%E5%B7%A5%E6%99%BA%E6%85%A7-%E5%80%92%E5%BA%95%E6%9C%89%E5%A4%9A%E6%99%BA%E6%85%A7/epoch-batch-size-iteration-learning-rate-b62bf6334c49)"
      ],
      "metadata": {
        "id": "d03gqpXNLfj7"
      }
    }
  ]
}