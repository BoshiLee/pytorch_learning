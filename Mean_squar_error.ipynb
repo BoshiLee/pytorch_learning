{
  "nbformat": 4,
  "nbformat_minor": 0,
  "metadata": {
    "colab": {
      "name": "Mean_squar_error.ipynb",
      "provenance": [],
      "authorship_tag": "ABX9TyOBa1Z9/SIWqDHC5QCby9KQ",
      "include_colab_link": true
    },
    "kernelspec": {
      "name": "python3",
      "display_name": "Python 3"
    },
    "language_info": {
      "name": "python"
    }
  },
  "cells": [
    {
      "cell_type": "markdown",
      "metadata": {
        "id": "view-in-github",
        "colab_type": "text"
      },
      "source": [
        "<a href=\"https://colab.research.google.com/github/BoshiLee/pytorch_learning/blob/main/Mean_squar_error.ipynb\" target=\"_parent\"><img src=\"https://colab.research.google.com/assets/colab-badge.svg\" alt=\"Open In Colab\"/></a>"
      ]
    },
    {
      "cell_type": "markdown",
      "source": [
        "![mse.jpg](https://imgur.com/q5teKV2.jpg)"
      ],
      "metadata": {
        "id": "0G8sY18zBLTf"
      }
    },
    {
      "cell_type": "code",
      "execution_count": 1,
      "metadata": {
        "colab": {
          "base_uri": "https://localhost:8080/"
        },
        "id": "-qxdZf2yA0Wp",
        "outputId": "99a3d1be-72ff-47c6-834a-e2c89c219327"
      },
      "outputs": [
        {
          "output_type": "stream",
          "name": "stdout",
          "text": [
            "Requirement already satisfied: torch in /usr/local/lib/python3.7/dist-packages (1.10.0+cu111)\n",
            "Requirement already satisfied: typing-extensions in /usr/local/lib/python3.7/dist-packages (from torch) (3.10.0.2)\n"
          ]
        }
      ],
      "source": [
        "!pip3 install torch"
      ]
    },
    {
      "cell_type": "code",
      "source": [
        "import torch\n",
        "import torch.nn as nn\n",
        "import matplotlib.pyplot as plt\n",
        "import numpy as np"
      ],
      "metadata": {
        "id": "DfgYI1CYEd_o"
      },
      "execution_count": 2,
      "outputs": []
    },
    {
      "cell_type": "code",
      "source": [
        "X = torch.randn(100, 1)*10\n",
        "y = X + 3*torch.randn(100, 1)\n",
        "plt.plot(X.numpy(), y.numpy(), 'o')"
      ],
      "metadata": {
        "colab": {
          "base_uri": "https://localhost:8080/",
          "height": 282
        },
        "id": "vasI26zyFJ2W",
        "outputId": "951176d4-8710-4889-ec55-4ac86461de64"
      },
      "execution_count": 3,
      "outputs": [
        {
          "output_type": "execute_result",
          "data": {
            "text/plain": [
              "[<matplotlib.lines.Line2D at 0x7fe5a3a85950>]"
            ]
          },
          "metadata": {},
          "execution_count": 3
        },
        {
          "output_type": "display_data",
          "data": {
            "image/png": "[encoded data removed]",
            "text/plain": [
              "<Figure size 432x288 with 1 Axes>"
            ]
          },
          "metadata": {
            "needs_background": "light"
          }
        }
      ]
    },
    {
      "cell_type": "code",
      "source": [
        "class LR(nn.Module):\n",
        "  def __init__(self, input_size, output_size):\n",
        "    super().__init__()\n",
        "    self.linear = nn.Linear(input_size, output_size)\n",
        "  def forward(self, x):\n",
        "    pred = self.linear(x)\n",
        "    return pred"
      ],
      "metadata": {
        "id": "9JJ_V0RKEigY"
      },
      "execution_count": 4,
      "outputs": []
    },
    {
      "cell_type": "code",
      "source": [
        "torch.manual_seed(1)\n",
        "model = LR(1, 1)"
      ],
      "metadata": {
        "id": "BeYHplX7Ees2"
      },
      "execution_count": 5,
      "outputs": []
    },
    {
      "cell_type": "code",
      "source": [
        "def get_parameters(model: LR):\n",
        "  [w, b] = model.parameters()\n",
        "  return (w[0][0].item(), b[0].item())"
      ],
      "metadata": {
        "id": "4MYIJbuHEms_"
      },
      "execution_count": 6,
      "outputs": []
    },
    {
      "cell_type": "code",
      "source": [
        "def plot_fit(title):\n",
        "  plt.title = title\n",
        "  w1, b1 = get_parameters(model)\n",
        "  x1 = X.numpy()\n",
        "  y1 = w1*x1 + b1\n",
        "  plt.plot(x1, y1, 'r')\n",
        "  plt.scatter(X, y)\n",
        "  plt.show()"
      ],
      "metadata": {
        "id": "t9Tr6EWWEu29"
      },
      "execution_count": 7,
      "outputs": []
    },
    {
      "cell_type": "code",
      "source": [
        "plot_fit('init model')"
      ],
      "metadata": {
        "colab": {
          "base_uri": "https://localhost:8080/",
          "height": 265
        },
        "id": "mXbMwo0wEvqm",
        "outputId": "033f50c2-0d3f-4e06-8df8-8e60e92c9837"
      },
      "execution_count": 8,
      "outputs": [
        {
          "output_type": "display_data",
          "data": {
            "image/png": "[encoded data removed]",
            "text/plain": [
              "<Figure size 432x288 with 1 Axes>"
            ]
          },
          "metadata": {
            "needs_background": "light"
          }
        }
      ]
    },
    {
      "cell_type": "code",
      "source": [
        "criterion = nn.MSELoss()\n",
        "optimizer = torch.optim.SGD(model.parameters(), lr = 0.01)"
      ],
      "metadata": {
        "id": "XttTDDsXEy0R"
      },
      "execution_count": 9,
      "outputs": []
    },
    {
      "cell_type": "code",
      "source": [
        "epochs = 100\n",
        "losses = []\n",
        "for i in range(epochs):\n",
        "  y_pred = model.forward(X)\n",
        "  loss = criterion(y_pred, y)\n",
        "  print(\"epoch:\", i, \"loss:\", loss.item())\n",
        "  \n",
        "  losses.append(loss)\n",
        "  optimizer.zero_grad()\n",
        "  loss.backward() # 對 loss 微分\n",
        "  optimizer.step() # 更新 Model 的參數"
      ],
      "metadata": {
        "id": "FdDHU70cLjmJ",
        "colab": {
          "base_uri": "https://localhost:8080/"
        },
        "outputId": "cdc6e463-30c1-4338-fa58-600688e93566"
      },
      "execution_count": 10,
      "outputs": [
        {
          "output_type": "stream",
          "name": "stdout",
          "text": [
            "epoch: 0 loss: 32.982505798339844\n",
            "epoch: 1 loss: 30.99850082397461\n",
            "epoch: 2 loss: 29.17365074157715\n",
            "epoch: 3 loss: 27.495162963867188\n",
            "epoch: 4 loss: 25.95132064819336\n",
            "epoch: 5 loss: 24.531288146972656\n",
            "epoch: 6 loss: 23.22515869140625\n",
            "epoch: 7 loss: 22.023815155029297\n",
            "epoch: 8 loss: 20.918840408325195\n",
            "epoch: 9 loss: 19.90247917175293\n",
            "epoch: 10 loss: 18.967639923095703\n",
            "epoch: 11 loss: 18.107778549194336\n",
            "epoch: 12 loss: 17.3168888092041\n",
            "epoch: 13 loss: 16.589445114135742\n",
            "epoch: 14 loss: 15.920336723327637\n",
            "epoch: 15 loss: 15.304903984069824\n",
            "epoch: 16 loss: 14.738829612731934\n",
            "epoch: 17 loss: 14.218162536621094\n",
            "epoch: 18 loss: 13.739258766174316\n",
            "epoch: 19 loss: 13.298766136169434\n",
            "epoch: 20 loss: 12.89360237121582\n",
            "epoch: 21 loss: 12.52093505859375\n",
            "epoch: 22 loss: 12.178166389465332\n",
            "epoch: 23 loss: 11.862890243530273\n",
            "epoch: 24 loss: 11.572901725769043\n",
            "epoch: 25 loss: 11.306170463562012\n",
            "epoch: 26 loss: 11.060833930969238\n",
            "epoch: 27 loss: 10.835177421569824\n",
            "epoch: 28 loss: 10.6276216506958\n",
            "epoch: 29 loss: 10.436714172363281\n",
            "epoch: 30 loss: 10.261117935180664\n",
            "epoch: 31 loss: 10.09960651397705\n",
            "epoch: 32 loss: 9.951047897338867\n",
            "epoch: 33 loss: 9.814406394958496\n",
            "epoch: 34 loss: 9.688726425170898\n",
            "epoch: 35 loss: 9.573127746582031\n",
            "epoch: 36 loss: 9.46679973602295\n",
            "epoch: 37 loss: 9.368997573852539\n",
            "epoch: 38 loss: 9.279044151306152\n",
            "epoch: 39 loss: 9.196303367614746\n",
            "epoch: 40 loss: 9.120201110839844\n",
            "epoch: 41 loss: 9.050202369689941\n",
            "epoch: 42 loss: 8.985817909240723\n",
            "epoch: 43 loss: 8.926599502563477\n",
            "epoch: 44 loss: 8.8721284866333\n",
            "epoch: 45 loss: 8.822027206420898\n",
            "epoch: 46 loss: 8.775945663452148\n",
            "epoch: 47 loss: 8.733560562133789\n",
            "epoch: 48 loss: 8.694573402404785\n",
            "epoch: 49 loss: 8.658713340759277\n",
            "epoch: 50 loss: 8.62572956085205\n",
            "epoch: 51 loss: 8.595393180847168\n",
            "epoch: 52 loss: 8.567487716674805\n",
            "epoch: 53 loss: 8.54182243347168\n",
            "epoch: 54 loss: 8.518214225769043\n",
            "epoch: 55 loss: 8.496500015258789\n",
            "epoch: 56 loss: 8.47652816772461\n",
            "epoch: 57 loss: 8.458157539367676\n",
            "epoch: 58 loss: 8.441259384155273\n",
            "epoch: 59 loss: 8.425719261169434\n",
            "epoch: 60 loss: 8.411423683166504\n",
            "epoch: 61 loss: 8.398275375366211\n",
            "epoch: 62 loss: 8.386181831359863\n",
            "epoch: 63 loss: 8.3750581741333\n",
            "epoch: 64 loss: 8.364828109741211\n",
            "epoch: 65 loss: 8.355416297912598\n",
            "epoch: 66 loss: 8.346759796142578\n",
            "epoch: 67 loss: 8.338798522949219\n",
            "epoch: 68 loss: 8.331475257873535\n",
            "epoch: 69 loss: 8.324740409851074\n",
            "epoch: 70 loss: 8.3185453414917\n",
            "epoch: 71 loss: 8.312847137451172\n",
            "epoch: 72 loss: 8.307604789733887\n",
            "epoch: 73 loss: 8.302783966064453\n",
            "epoch: 74 loss: 8.29835033416748\n",
            "epoch: 75 loss: 8.294271469116211\n",
            "epoch: 76 loss: 8.290519714355469\n",
            "epoch: 77 loss: 8.287069320678711\n",
            "epoch: 78 loss: 8.283895492553711\n",
            "epoch: 79 loss: 8.280975341796875\n",
            "epoch: 80 loss: 8.278290748596191\n",
            "epoch: 81 loss: 8.2758207321167\n",
            "epoch: 82 loss: 8.27354907989502\n",
            "epoch: 83 loss: 8.271459579467773\n",
            "epoch: 84 loss: 8.269538879394531\n",
            "epoch: 85 loss: 8.267769813537598\n",
            "epoch: 86 loss: 8.266143798828125\n",
            "epoch: 87 loss: 8.2646484375\n",
            "epoch: 88 loss: 8.263272285461426\n",
            "epoch: 89 loss: 8.262007713317871\n",
            "epoch: 90 loss: 8.260844230651855\n",
            "epoch: 91 loss: 8.259774208068848\n",
            "epoch: 92 loss: 8.258790016174316\n",
            "epoch: 93 loss: 8.25788402557373\n",
            "epoch: 94 loss: 8.257051467895508\n",
            "epoch: 95 loss: 8.256285667419434\n",
            "epoch: 96 loss: 8.255579948425293\n",
            "epoch: 97 loss: 8.254932403564453\n",
            "epoch: 98 loss: 8.254337310791016\n",
            "epoch: 99 loss: 8.253787994384766\n"
          ]
        }
      ]
    },
    {
      "cell_type": "markdown",
      "source": [
        "如果數據很奇怪的話，重啟 runtime 應該能解決"
      ],
      "metadata": {
        "id": "j-JJc7ajceXN"
      }
    },
    {
      "cell_type": "code",
      "source": [
        "plt.plot(range(epochs), losses)\n",
        "plt.ylabel('Loss')\n",
        "plt.xlabel('epoch')"
      ],
      "metadata": {
        "colab": {
          "base_uri": "https://localhost:8080/",
          "height": 296
        },
        "id": "xDn297V3dAr0",
        "outputId": "3c2712bf-58ae-4269-f428-e3942906aad0"
      },
      "execution_count": 11,
      "outputs": [
        {
          "output_type": "execute_result",
          "data": {
            "text/plain": [
              "Text(0.5, 0, 'epoch')"
            ]
          },
          "metadata": {},
          "execution_count": 11
        },
        {
          "output_type": "display_data",
          "data": {
            "image/png": "[encoded data removed]",
            "text/plain": [
              "<Figure size 432x288 with 1 Axes>"
            ]
          },
          "metadata": {
            "needs_background": "light"
          }
        }
      ]
    },
    {
      "cell_type": "code",
      "source": [
        "plot_fit('Train Model')"
      ],
      "metadata": {
        "colab": {
          "base_uri": "https://localhost:8080/",
          "height": 265
        },
        "id": "i8YWiJ0-djx4",
        "outputId": "18a6d6b5-5f4a-42b4-a1cf-1547190cfb0a"
      },
      "execution_count": 12,
      "outputs": [
        {
          "output_type": "display_data",
          "data": {
            "image/png": "[encoded data removed]",
            "text/plain": [
              "<Figure size 432x288 with 1 Axes>"
            ]
          },
          "metadata": {
            "needs_background": "light"
          }
        }
      ]
    },
    {
      "cell_type": "markdown",
      "source": [
        "[Epoch, Batch size, Iteration, Learning Rate 名詞解釋](https://medium.com/%E4%BA%BA%E5%B7%A5%E6%99%BA%E6%85%A7-%E5%80%92%E5%BA%95%E6%9C%89%E5%A4%9A%E6%99%BA%E6%85%A7/epoch-batch-size-iteration-learning-rate-b62bf6334c49)"
      ],
      "metadata": {
        "id": "d03gqpXNLfj7"
      }
    }
  ]
}