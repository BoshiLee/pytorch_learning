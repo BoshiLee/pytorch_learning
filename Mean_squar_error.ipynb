{
  "nbformat": 4,
  "nbformat_minor": 0,
  "metadata": {
    "colab": {
      "name": "Mean_squar_error.ipynb",
      "provenance": [],
      "authorship_tag": "ABX9TyMtVwvZMiy6nChTiJH31Djq",
      "include_colab_link": true
    },
    "kernelspec": {
      "name": "python3",
      "display_name": "Python 3"
    },
    "language_info": {
      "name": "python"
    }
  },
  "cells": [
    {
      "cell_type": "markdown",
      "metadata": {
        "id": "view-in-github",
        "colab_type": "text"
      },
      "source": [
        "<a href=\"https://colab.research.google.com/github/BoshiLee/pytorch_learning/blob/main/Mean_squar_error.ipynb\" target=\"_parent\"><img src=\"https://colab.research.google.com/assets/colab-badge.svg\" alt=\"Open In Colab\"/></a>"
      ]
    },
    {
      "cell_type": "markdown",
      "source": [
        "![mse.jpg](https://imgur.com/q5teKV2.jpg)"
      ],
      "metadata": {
        "id": "0G8sY18zBLTf"
      }
    },
    {
      "cell_type": "code",
      "execution_count": 1,
      "metadata": {
        "colab": {
          "base_uri": "https://localhost:8080/"
        },
        "id": "-qxdZf2yA0Wp",
        "outputId": "fd555266-8603-4eda-e72f-393a87262968"
      },
      "outputs": [
        {
          "output_type": "stream",
          "name": "stdout",
          "text": [
            "Requirement already satisfied: torch in /usr/local/lib/python3.7/dist-packages (1.10.0+cu111)\n",
            "Requirement already satisfied: typing-extensions in /usr/local/lib/python3.7/dist-packages (from torch) (3.10.0.2)\n"
          ]
        }
      ],
      "source": [
        "!pip3 install torch"
      ]
    },
    {
      "cell_type": "code",
      "source": [
        "import torch\n",
        "import torch.nn as nn\n",
        "import matplotlib.pyplot as plt\n",
        "import numpy as np"
      ],
      "metadata": {
        "id": "DfgYI1CYEd_o"
      },
      "execution_count": 2,
      "outputs": []
    },
    {
      "cell_type": "code",
      "source": [
        "X = torch.randn(100, 1)*10\n",
        "y = X + 3*torch.randn(100, 1)\n",
        "plt.plot(X.numpy(), y.numpy(), 'o')"
      ],
      "metadata": {
        "colab": {
          "base_uri": "https://localhost:8080/",
          "height": 282
        },
        "id": "vasI26zyFJ2W",
        "outputId": "3221588e-9fc9-416e-a300-94beb9ce7fe0"
      },
      "execution_count": 3,
      "outputs": [
        {
          "output_type": "execute_result",
          "data": {
            "text/plain": [
              "[<matplotlib.lines.Line2D at 0x7f89b6143fd0>]"
            ]
          },
          "metadata": {},
          "execution_count": 3
        },
        {
          "output_type": "display_data",
          "data": {
            "image/png": "[encoded data removed]",
            "text/plain": [
              "<Figure size 432x288 with 1 Axes>"
            ]
          },
          "metadata": {
            "needs_background": "light"
          }
        }
      ]
    },
    {
      "cell_type": "code",
      "source": [
        "class LR(nn.Module):\n",
        "  def __init__(self, input_size, output_size):\n",
        "    super().__init__()\n",
        "    self.linear = nn.Linear(input_size, output_size)\n",
        "  def forward(self, x):\n",
        "    pred = self.linear(x)\n",
        "    return pred"
      ],
      "metadata": {
        "id": "9JJ_V0RKEigY"
      },
      "execution_count": 4,
      "outputs": []
    },
    {
      "cell_type": "code",
      "source": [
        "torch.manual_seed(1)\n",
        "model = LR(1, 1)"
      ],
      "metadata": {
        "id": "BeYHplX7Ees2"
      },
      "execution_count": 5,
      "outputs": []
    },
    {
      "cell_type": "code",
      "source": [
        "def get_parameters(model: LR):\n",
        "  [w, b] = model.parameters()\n",
        "  return (w[0][0].item(), b[0].item())"
      ],
      "metadata": {
        "id": "4MYIJbuHEms_"
      },
      "execution_count": 6,
      "outputs": []
    },
    {
      "cell_type": "code",
      "source": [
        "def plot_fit(title):\n",
        "  plt.title = title\n",
        "  w1, b1 = get_parameters(model)\n",
        "  x1 = np.array([-30, 30])\n",
        "  y1 = w1*x1 + b1\n",
        "  plt.plot(x1, y1, 'r')\n",
        "  plt.scatter(X, y)\n",
        "  plt.show()"
      ],
      "metadata": {
        "id": "t9Tr6EWWEu29"
      },
      "execution_count": 7,
      "outputs": []
    },
    {
      "cell_type": "code",
      "source": [
        "plot_fit('init model')"
      ],
      "metadata": {
        "colab": {
          "base_uri": "https://localhost:8080/",
          "height": 265
        },
        "id": "mXbMwo0wEvqm",
        "outputId": "038c0ad0-39bd-4482-955a-466e3df4b2e1"
      },
      "execution_count": 8,
      "outputs": [
        {
          "output_type": "display_data",
          "data": {
            "image/png": "[encoded data removed]",
            "text/plain": [
              "<Figure size 432x288 with 1 Axes>"
            ]
          },
          "metadata": {
            "needs_background": "light"
          }
        }
      ]
    },
    {
      "cell_type": "code",
      "source": [
        "criterion = nn.MSELoss()\n",
        "optimizer = torch.optim.SGD(model.parameters(), lr = 0.01)"
      ],
      "metadata": {
        "id": "XttTDDsXEy0R"
      },
      "execution_count": 9,
      "outputs": []
    },
    {
      "cell_type": "code",
      "source": [
        "epochs = 100\n",
        "losses = []\n",
        "for i in range(epochs):\n",
        "  y_pred = model.forward(X)\n",
        "  loss = criterion(y_pred, y)\n",
        "  print(\"epoch:\", i, \"loss:\", loss.item())\n",
        "  \n",
        "  losses.append(loss)\n",
        "  optimizer.zero_grad()\n",
        "  loss.backward() # 對 loss 微分\n",
        "  optimizer.step() # 更新 Model 的參數"
      ],
      "metadata": {
        "id": "FdDHU70cLjmJ",
        "colab": {
          "base_uri": "https://localhost:8080/"
        },
        "outputId": "2130d28b-c2bf-4e89-978f-7ea505729c57"
      },
      "execution_count": 10,
      "outputs": [
        {
          "output_type": "stream",
          "name": "stdout",
          "text": [
            "epoch: 0 loss: 29.98807144165039\n",
            "epoch: 1 loss: 20.324214935302734\n",
            "epoch: 2 loss: 15.347301483154297\n",
            "epoch: 3 loss: 12.78255844116211\n",
            "epoch: 4 loss: 11.459328651428223\n",
            "epoch: 5 loss: 10.775136947631836\n",
            "epoch: 6 loss: 10.419940948486328\n",
            "epoch: 7 loss: 10.234177589416504\n",
            "epoch: 8 loss: 10.135723114013672\n",
            "epoch: 9 loss: 10.08230972290039\n",
            "epoch: 10 loss: 10.05218505859375\n",
            "epoch: 11 loss: 10.034146308898926\n",
            "epoch: 12 loss: 10.022425651550293\n",
            "epoch: 13 loss: 10.014052391052246\n",
            "epoch: 14 loss: 10.007493019104004\n",
            "epoch: 15 loss: 10.001953125\n",
            "epoch: 16 loss: 9.997021675109863\n",
            "epoch: 17 loss: 9.992487907409668\n",
            "epoch: 18 loss: 9.988232612609863\n",
            "epoch: 19 loss: 9.984195709228516\n",
            "epoch: 20 loss: 9.980345726013184\n",
            "epoch: 21 loss: 9.97665786743164\n",
            "epoch: 22 loss: 9.973119735717773\n",
            "epoch: 23 loss: 9.96972370147705\n",
            "epoch: 24 loss: 9.966464042663574\n",
            "epoch: 25 loss: 9.963329315185547\n",
            "epoch: 26 loss: 9.960317611694336\n",
            "epoch: 27 loss: 9.957423210144043\n",
            "epoch: 28 loss: 9.954641342163086\n",
            "epoch: 29 loss: 9.9519681930542\n",
            "epoch: 30 loss: 9.9493989944458\n",
            "epoch: 31 loss: 9.946928977966309\n",
            "epoch: 32 loss: 9.944555282592773\n",
            "epoch: 33 loss: 9.942275047302246\n",
            "epoch: 34 loss: 9.940082550048828\n",
            "epoch: 35 loss: 9.93797492980957\n",
            "epoch: 36 loss: 9.935949325561523\n",
            "epoch: 37 loss: 9.934001922607422\n",
            "epoch: 38 loss: 9.93213176727295\n",
            "epoch: 39 loss: 9.930333137512207\n",
            "epoch: 40 loss: 9.928606033325195\n",
            "epoch: 41 loss: 9.926944732666016\n",
            "epoch: 42 loss: 9.925348281860352\n",
            "epoch: 43 loss: 9.923812866210938\n",
            "epoch: 44 loss: 9.922338485717773\n",
            "epoch: 45 loss: 9.920920372009277\n",
            "epoch: 46 loss: 9.919557571411133\n",
            "epoch: 47 loss: 9.918248176574707\n",
            "epoch: 48 loss: 9.916990280151367\n",
            "epoch: 49 loss: 9.915781021118164\n",
            "epoch: 50 loss: 9.914617538452148\n",
            "epoch: 51 loss: 9.913500785827637\n",
            "epoch: 52 loss: 9.912426948547363\n",
            "epoch: 53 loss: 9.911395072937012\n",
            "epoch: 54 loss: 9.910402297973633\n",
            "epoch: 55 loss: 9.909448623657227\n",
            "epoch: 56 loss: 9.90853214263916\n",
            "epoch: 57 loss: 9.907651901245117\n",
            "epoch: 58 loss: 9.906804084777832\n",
            "epoch: 59 loss: 9.905990600585938\n",
            "epoch: 60 loss: 9.905208587646484\n",
            "epoch: 61 loss: 9.904457092285156\n",
            "epoch: 62 loss: 9.903735160827637\n",
            "epoch: 63 loss: 9.903040885925293\n",
            "epoch: 64 loss: 9.902373313903809\n",
            "epoch: 65 loss: 9.90173053741455\n",
            "epoch: 66 loss: 9.901115417480469\n",
            "epoch: 67 loss: 9.900522232055664\n",
            "epoch: 68 loss: 9.89995288848877\n",
            "epoch: 69 loss: 9.899405479431152\n",
            "epoch: 70 loss: 9.898879051208496\n",
            "epoch: 71 loss: 9.8983736038208\n",
            "epoch: 72 loss: 9.89788818359375\n",
            "epoch: 73 loss: 9.897420883178711\n",
            "epoch: 74 loss: 9.896971702575684\n",
            "epoch: 75 loss: 9.896539688110352\n",
            "epoch: 76 loss: 9.896125793457031\n",
            "epoch: 77 loss: 9.895726203918457\n",
            "epoch: 78 loss: 9.895343780517578\n",
            "epoch: 79 loss: 9.894976615905762\n",
            "epoch: 80 loss: 9.894621849060059\n",
            "epoch: 81 loss: 9.894281387329102\n",
            "epoch: 82 loss: 9.893954277038574\n",
            "epoch: 83 loss: 9.893640518188477\n",
            "epoch: 84 loss: 9.893339157104492\n",
            "epoch: 85 loss: 9.893048286437988\n",
            "epoch: 86 loss: 9.892769813537598\n",
            "epoch: 87 loss: 9.892501831054688\n",
            "epoch: 88 loss: 9.892243385314941\n",
            "epoch: 89 loss: 9.891995429992676\n",
            "epoch: 90 loss: 9.891757011413574\n",
            "epoch: 91 loss: 9.891529083251953\n",
            "epoch: 92 loss: 9.891308784484863\n",
            "epoch: 93 loss: 9.891098022460938\n",
            "epoch: 94 loss: 9.890893936157227\n",
            "epoch: 95 loss: 9.890700340270996\n",
            "epoch: 96 loss: 9.890512466430664\n",
            "epoch: 97 loss: 9.890332221984863\n",
            "epoch: 98 loss: 9.890158653259277\n",
            "epoch: 99 loss: 9.889991760253906\n"
          ]
        }
      ]
    },
    {
      "cell_type": "markdown",
      "source": [
        "如果數據很奇怪的話，重啟 runtime 應該能解決"
      ],
      "metadata": {
        "id": "j-JJc7ajceXN"
      }
    },
    {
      "cell_type": "code",
      "source": [
        "plt.plot(range(epochs), losses)\n",
        "plt.ylabel('Loss')\n",
        "plt.xlabel('epoch')"
      ],
      "metadata": {
        "colab": {
          "base_uri": "https://localhost:8080/",
          "height": 296
        },
        "id": "xDn297V3dAr0",
        "outputId": "fead9af3-95ec-464c-c8a1-66d13f0a1254"
      },
      "execution_count": 11,
      "outputs": [
        {
          "output_type": "execute_result",
          "data": {
            "text/plain": [
              "Text(0.5, 0, 'epoch')"
            ]
          },
          "metadata": {},
          "execution_count": 11
        },
        {
          "output_type": "display_data",
          "data": {
            "image/png": "[encoded data removed]",
            "text/plain": [
              "<Figure size 432x288 with 1 Axes>"
            ]
          },
          "metadata": {
            "needs_background": "light"
          }
        }
      ]
    },
    {
      "cell_type": "code",
      "source": [
        "plot_fit('Train Model')"
      ],
      "metadata": {
        "colab": {
          "base_uri": "https://localhost:8080/",
          "height": 265
        },
        "id": "i8YWiJ0-djx4",
        "outputId": "392ece49-20ee-404f-adac-69cd5694a702"
      },
      "execution_count": 12,
      "outputs": [
        {
          "output_type": "display_data",
          "data": {
            "image/png": "[encoded data removed]",
            "text/plain": [
              "<Figure size 432x288 with 1 Axes>"
            ]
          },
          "metadata": {
            "needs_background": "light"
          }
        }
      ]
    },
    {
      "cell_type": "markdown",
      "source": [
        "[Epoch, Batch size, Iteration, Learning Rate 名詞解釋](https://medium.com/%E4%BA%BA%E5%B7%A5%E6%99%BA%E6%85%A7-%E5%80%92%E5%BA%95%E6%9C%89%E5%A4%9A%E6%99%BA%E6%85%A7/epoch-batch-size-iteration-learning-rate-b62bf6334c49)"
      ],
      "metadata": {
        "id": "d03gqpXNLfj7"
      }
    }
  ]
}