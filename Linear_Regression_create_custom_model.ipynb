{
  "nbformat": 4,
  "nbformat_minor": 0,
  "metadata": {
    "colab": {
      "name": "Linear_Regression_create_custom_model.ipynb",
      "provenance": [],
      "authorship_tag": "ABX9TyM/yR1+WLyw9rKKWOKwS6yg",
      "include_colab_link": true
    },
    "kernelspec": {
      "name": "python3",
      "display_name": "Python 3"
    },
    "language_info": {
      "name": "python"
    }
  },
  "cells": [
    {
      "cell_type": "markdown",
      "metadata": {
        "id": "view-in-github",
        "colab_type": "text"
      },
      "source": [
        "<a href=\"https://colab.research.google.com/github/BoshiLee/pytorch_learning/blob/main/Linear_Regression_create_custom_model.ipynb\" target=\"_parent\"><img src=\"https://colab.research.google.com/assets/colab-badge.svg\" alt=\"Open In Colab\"/></a>"
      ]
    },
    {
      "cell_type": "code",
      "execution_count": 2,
      "metadata": {
        "colab": {
          "base_uri": "https://localhost:8080/"
        },
        "id": "-l87Gp6_TwLu",
        "outputId": "0555b8d2-6703-4f81-a229-72c129b1db6c"
      },
      "outputs": [
        {
          "output_type": "stream",
          "name": "stdout",
          "text": [
            "Requirement already satisfied: torch in /usr/local/lib/python3.7/dist-packages (1.10.0+cu111)\n",
            "Requirement already satisfied: typing-extensions in /usr/local/lib/python3.7/dist-packages (from torch) (3.10.0.2)\n"
          ]
        }
      ],
      "source": [
        "!pip3 install torch"
      ]
    },
    {
      "cell_type": "code",
      "source": [
        "import torch\n",
        "import matplotlib.pyplot as plt\n",
        "import numpy as np"
      ],
      "metadata": {
        "id": "yoMzA4FJUHHB"
      },
      "execution_count": 48,
      "outputs": []
    },
    {
      "cell_type": "code",
      "source": [
        "X = torch.randn(100, 1)*10\n",
        "Y = X + 3*torch.randn(100, 1)\n",
        "plt.xlabel = 'x'\n",
        "plt.ylabel = 'y'\n",
        "plt.plot(X.numpy(), Y.numpy(), 'o')"
      ],
      "metadata": {
        "colab": {
          "base_uri": "https://localhost:8080/",
          "height": 282
        },
        "id": "4ps4C7H-iyyj",
        "outputId": "ce44c67c-2fe4-45a5-ac3a-6f59e64e9071"
      },
      "execution_count": 40,
      "outputs": [
        {
          "output_type": "execute_result",
          "data": {
            "text/plain": [
              "[<matplotlib.lines.Line2D at 0x7fb4029b0250>]"
            ]
          },
          "metadata": {},
          "execution_count": 40
        },
        {
          "output_type": "display_data",
          "data": {
            "image/png": "[encoded data removed]",
            "text/plain": [
              "<Figure size 432x288 with 1 Axes>"
            ]
          },
          "metadata": {
            "needs_background": "light"
          }
        }
      ]
    },
    {
      "cell_type": "code",
      "source": [
        "class LR(torch.nn.Module): # 繼承 nn.Module\n",
        "  def __init__(self, input_size, output_size):\n",
        "    super(LR, self).__init__() # 必須先呼叫父層的 __init__\n",
        "    self.linear = torch.nn.Linear(input_size, output_size) # 建立自己的 linear module\n",
        "  \n",
        "  def forward(self, x):\n",
        "    prediction = self.linear(x)\n",
        "    return prediction\n"
      ],
      "metadata": {
        "id": "pSybG1SVUQid"
      },
      "execution_count": 18,
      "outputs": []
    },
    {
      "cell_type": "code",
      "source": [
        "torch.manual_seed(1)\n",
        "lr = LR(1, 1)\n",
        "print(list(lr.parameters()))"
      ],
      "metadata": {
        "colab": {
          "base_uri": "https://localhost:8080/"
        },
        "id": "lPx2My7PWNwc",
        "outputId": "8e20016a-6c29-421b-83e4-222ca8cf08aa"
      },
      "execution_count": 43,
      "outputs": [
        {
          "output_type": "stream",
          "name": "stdout",
          "text": [
            "[Parameter containing:\n",
            "tensor([[0.5153]], requires_grad=True), Parameter containing:\n",
            "tensor([-0.4414], requires_grad=True)]\n"
          ]
        }
      ]
    },
    {
      "cell_type": "code",
      "source": [
        "def get_parameters(model: LR):\n",
        "  [w, b] = model.parameters()\n",
        "  w1 = w[0][0].item()\n",
        "  b1 = b[0].item()\n",
        "  return w1, b1"
      ],
      "metadata": {
        "id": "7HqHMGoMn1ww"
      },
      "execution_count": 47,
      "outputs": []
    },
    {
      "cell_type": "code",
      "source": [
        "def fit_plot(title: str):\n",
        "  plt.title = title\n",
        "  w1, b1 = get_parameters(lr)\n",
        "  x1 = np.array([-30, 30])\n",
        "  y1 = w1*x1+b1\n",
        "  plt.plot(x1, y1, 'r')\n",
        "  plt.scatter(X, Y,) # 散佈圖\n",
        "  plt.show()\n"
      ],
      "metadata": {
        "id": "qVDtwruNpt15"
      },
      "execution_count": 68,
      "outputs": []
    },
    {
      "cell_type": "code",
      "source": [
        "fit_plot('init model')"
      ],
      "metadata": {
        "colab": {
          "base_uri": "https://localhost:8080/",
          "height": 265
        },
        "id": "tryTcS_KqmnY",
        "outputId": "e8cf9a5b-0636-4e3e-f4b3-034bef353b39"
      },
      "execution_count": 69,
      "outputs": [
        {
          "output_type": "display_data",
          "data": {
            "image/png": "[encoded data removed]",
            "text/plain": [
              "<Figure size 432x288 with 1 Axes>"
            ]
          },
          "metadata": {
            "needs_background": "light"
          }
        }
      ]
    },
    {
      "cell_type": "markdown",
      "source": [
        "simple loss function\n",
        "假設座標為 (3, -3)"
      ],
      "metadata": {
        "id": "X9yrcBRAvh7E"
      }
    },
    {
      "cell_type": "code",
      "source": [
        "def loss(w, x):\n",
        "  return (-3 - w*x)**2\n",
        "\n",
        "x = np.arange(-10, 10, 0.1)\n",
        "l = loss(-3, x)\n",
        "\n",
        "plt.plot(x, y)\n",
        "plt.show()"
      ],
      "metadata": {
        "colab": {
          "base_uri": "https://localhost:8080/",
          "height": 265
        },
        "id": "yIU-sAuPvj9g",
        "outputId": "9aacfe8d-683c-48b3-edcc-fbf15e70e2eb"
      },
      "execution_count": 103,
      "outputs": [
        {
          "output_type": "display_data",
          "data": {
            "image/png": "[encoded data removed]",
            "text/plain": [
              "<Figure size 432x288 with 1 Axes>"
            ]
          },
          "metadata": {
            "needs_background": "light"
          }
        }
      ]
    },
    {
      "cell_type": "markdown",
      "source": [
        "https://docs.google.com/spreadsheets/d/1l2eOC8Z7tF_0Jz-UOoGPm1i3KhumSdgBT8Ea-aXXB04/edit?usp=sharing\n"
      ],
      "metadata": {
        "id": "TRaYgdRX-sq0"
      }
    },
    {
      "cell_type": "markdown",
      "source": [
        "Prediction"
      ],
      "metadata": {
        "id": "FNPcMxakZC0d"
      }
    },
    {
      "cell_type": "code",
      "source": [
        "x = torch.tensor([[1.0], [2.0], [3.0]])\n",
        "y = lr.forward(x)\n",
        "\n",
        "plt.xlabel = 'x'\n",
        "plt.ylabel = 'y'\n",
        "plt.plot(x.detach().numpy(), y.detach().numpy(), 'o')"
      ],
      "metadata": {
        "colab": {
          "base_uri": "https://localhost:8080/",
          "height": 282
        },
        "id": "6s6gpQ4YYxny",
        "outputId": "60ed840b-3d24-418e-d19f-834efb1b9252"
      },
      "execution_count": 70,
      "outputs": [
        {
          "output_type": "execute_result",
          "data": {
            "text/plain": [
              "[<matplotlib.lines.Line2D at 0x7fb4026c8210>]"
            ]
          },
          "metadata": {},
          "execution_count": 70
        },
        {
          "output_type": "display_data",
          "data": {
            "image/png": "[encoded data removed]",
            "text/plain": [
              "<Figure size 432x288 with 1 Axes>"
            ]
          },
          "metadata": {
            "needs_background": "light"
          }
        }
      ]
    }
  ]
}