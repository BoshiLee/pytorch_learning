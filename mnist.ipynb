{
  "nbformat": 4,
  "nbformat_minor": 0,
  "metadata": {
    "colab": {
      "name": "mnist.ipynb",
      "provenance": [],
      "collapsed_sections": [],
      "authorship_tag": "ABX9TyOtqcDnykYZ74iuhACvpZTK",
      "include_colab_link": true
    },
    "kernelspec": {
      "name": "python3",
      "display_name": "Python 3"
    },
    "language_info": {
      "name": "python"
    }
  },
  "cells": [
    {
      "cell_type": "markdown",
      "metadata": {
        "id": "view-in-github",
        "colab_type": "text"
      },
      "source": [
        "<a href=\"https://colab.research.google.com/github/BoshiLee/pytorch_learning/blob/main/mnist.ipynb\" target=\"_parent\"><img src=\"https://colab.research.google.com/assets/colab-badge.svg\" alt=\"Open In Colab\"/></a>"
      ]
    },
    {
      "cell_type": "code",
      "execution_count": 1,
      "metadata": {
        "colab": {
          "base_uri": "https://localhost:8080/"
        },
        "id": "EyR3kGu_SBXp",
        "outputId": "96471bf7-4d01-4c2a-bb9f-d84861f63ebd"
      },
      "outputs": [
        {
          "output_type": "stream",
          "name": "stdout",
          "text": [
            "Requirement already satisfied: torch in /usr/local/lib/python3.7/dist-packages (1.10.0+cu111)\n",
            "Requirement already satisfied: torchvision in /usr/local/lib/python3.7/dist-packages (0.11.1+cu111)\n",
            "Requirement already satisfied: typing-extensions in /usr/local/lib/python3.7/dist-packages (from torch) (3.10.0.2)\n",
            "Requirement already satisfied: pillow!=8.3.0,>=5.3.0 in /usr/local/lib/python3.7/dist-packages (from torchvision) (7.1.2)\n",
            "Requirement already satisfied: numpy in /usr/local/lib/python3.7/dist-packages (from torchvision) (1.19.5)\n",
            "Requirement already satisfied: pillow in /usr/local/lib/python3.7/dist-packages (7.1.2)\n"
          ]
        }
      ],
      "source": [
        "!pip3 install torch torchvision\n",
        "!pip3 install pillow"
      ]
    },
    {
      "cell_type": "code",
      "source": [
        "import torch\n",
        "import numpy as np\n",
        "import matplotlib.pyplot as plt\n",
        "from torch import nn\n",
        "import torch.nn.functional as F\n",
        "from torchvision import datasets, transforms"
      ],
      "metadata": {
        "id": "62O8P_v4S8BQ"
      },
      "execution_count": 2,
      "outputs": []
    },
    {
      "cell_type": "markdown",
      "source": [
        "`dset.MNIST(root, train=True, transform=None, transform=None, download=False)`\n",
        "\n",
        "参数说明\n",
        "1. root : processed/training.pt 和 processed/test.pt 的主目录\n",
        "2. train : True = 训练集, False = 测试集\n",
        "3. download : True = 从互联网上下载数据集，并把数据集放在root目录下. 如果数据集之前下载过，将处理过的数据（minist.py中有相关函数）放在processed文件夹下。\n",
        "4. transform：對影像進行的處理\n",
        "\n",
        "[其他資料集](https://codingdict.com/sources/py/torchvision.datasets/15805.html)"
      ],
      "metadata": {
        "id": "mEbsCfW4V_G3"
      }
    },
    {
      "cell_type": "markdown",
      "source": [
        "## 下載 Data 並實作歸一轉換"
      ],
      "metadata": {
        "id": "Nbr479kH6jRN"
      }
    },
    {
      "cell_type": "code",
      "source": [
        "transform = transforms.Compose([transforms.Resize((28, 28)),  #將圖像轉換為 28 * 28\n",
        "                                transforms.ToTensor(),\n",
        "                                transforms.Normalize((0.5,), (0.5,)) \n",
        "                                ]) #把灰階從0~255壓縮到0~1\n",
        "training_dataset = datasets.MNIST(root='./data', train=True, download=True, transform=transform)\n",
        "validation_dataset = datasets.MNIST(root='./data', train=False, download=True, transform=transform)"
      ],
      "metadata": {
        "id": "OpdJI6AzTP0P"
      },
      "execution_count": 3,
      "outputs": []
    },
    {
      "cell_type": "markdown",
      "source": [
        "## training_loader 將 60000 筆圖像資料分成 600 個 batch"
      ],
      "metadata": {
        "id": "yiKexXRMvRXO"
      }
    },
    {
      "cell_type": "code",
      "source": [
        "training_loader = torch.utils.data.DataLoader(training_dataset, batch_size=100, shuffle=True)\n",
        "validation_loader = torch.utils.data.DataLoader(validation_dataset, batch_size = 100, shuffle=False)"
      ],
      "metadata": {
        "id": "AKqN1_ZOZpCI"
      },
      "execution_count": 4,
      "outputs": []
    },
    {
      "cell_type": "markdown",
      "source": [
        "## 轉換圖片回可以被 pyplot 使用的格式"
      ],
      "metadata": {
        "id": "jrAIEpGx67A4"
      }
    },
    {
      "cell_type": "markdown",
      "source": [
        "先前轉換 tensor 的方法，現在再轉換回去\n",
        "![](https://imgur.com/MNL0WoI.jpg)"
      ],
      "metadata": {
        "id": "jkYwDEAamfJA"
      }
    },
    {
      "cell_type": "code",
      "source": [
        "def img_conver(tensor: torch.Tensor):\n",
        "  image = tensor.clone().detach().numpy()\n",
        "  image = image.transpose(1, 2, 0)\n",
        "  image = image * np.array((1, 1, 1)) #將原本用 0~1 表達的灰階轉換爲 [c, h, w]\n",
        "  image = image.clip(0, 1)\n",
        "  return image"
      ],
      "metadata": {
        "id": "EtjnEgGOhCqE"
      },
      "execution_count": 5,
      "outputs": []
    },
    {
      "cell_type": "markdown",
      "source": [
        "## 畫出 Dataset 的模樣\n",
        "\n",
        "![](https://imgur.com/E99GZVX.jpg)"
      ],
      "metadata": {
        "id": "PGTiSb8-357D"
      }
    },
    {
      "cell_type": "code",
      "source": [
        "data_iter = iter(training_loader)\n",
        "(images, labels) = data_iter.next()\n",
        "fig = plt.figure(figsize=(25, 6))\n",
        "for idx in np.arange(10):\n",
        "  ax = fig.add_subplot(2, 10, idx+1) #\n",
        "  con_im = img_conver(images[idx])\n",
        "  plt.imshow(con_im)\n",
        "  ax.set_xticks([])\n",
        "  ax.set_yticks([])\n",
        "  ax.set_title(label=labels[idx].item())"
      ],
      "metadata": {
        "colab": {
          "base_uri": "https://localhost:8080/",
          "height": 169
        },
        "id": "i2uorb6twr47",
        "outputId": "8fd680ec-c6d3-41f9-fffc-94eb1c81000d"
      },
      "execution_count": 6,
      "outputs": [
        {
          "output_type": "display_data",
          "data": {
            "image/png": "[encoded data removed]",
            "text/plain": [
              "<Figure size 1800x432 with 10 Axes>"
            ]
          },
          "metadata": {}
        }
      ]
    },
    {
      "cell_type": "markdown",
      "source": [
        "![log](https://imgur.com/bYArXJf.jpg)\n",
        "\n",
        "\n",
        "\n",
        "```\n",
        "nn.CrossEntropyLoss()\n",
        "```\n",
        "\n",
        "该损失函数结合了nn.LogSoftmax()和nn.NLLLoss()两个函数。它在做分类（具体几类）训练的时候是非常有用的。在训练过程中，对于每个类分配权值，可选的参数权值应该是一个1D张量。当你有一个不平衡的训练集时，这是是非常有用的。那么针对这个函数，下面将做详细的介绍。\n",
        "\n",
        "[nn.CrossEntropyLoss() 介紹](https://zhuanlan.zhihu.com/p/98785902)\n",
        "\n"
      ],
      "metadata": {
        "id": "StIh5ujza0WP"
      }
    },
    {
      "cell_type": "code",
      "source": [
        "class Classfier(nn.Module):\n",
        "  def __init__(self, D_in, H1, H2, D_out):\n",
        "    super().__init__();\n",
        "    self.linear1 = nn.Linear(D_in, H1)\n",
        "    self.linear2 = nn.Linear(H1, H2)\n",
        "    self.linear3 = nn.Linear(H2, D_out)\n",
        "  \n",
        "  def forward(self, x):\n",
        "    x = F.relu(self.linear1(x)) # 輸入位給第一層 hidden layer 後再將輸出給下一層用\n",
        "    x = F.relu(self.linear2(x)) # 輸入位給第二層 hidden layer 給輸出曾使用\n",
        "    x = self.linear3(x) # 這裡不用 softmax 去做分類，課程是說等等可以用原始輸出給 nn.CrossEntropyLoss\n",
        "    return x\n"
      ],
      "metadata": {
        "id": "d1Kr0URGKY-3"
      },
      "execution_count": 7,
      "outputs": []
    },
    {
      "cell_type": "markdown",
      "source": [
        "## initail classfier\n",
        "28 * 28 = 784 個數入端\n",
        "h1 125 個節點\n",
        "h2 65 個節點\n",
        "最後輸出 10 個的機率"
      ],
      "metadata": {
        "id": "Xjio_iwKmijm"
      }
    },
    {
      "cell_type": "code",
      "source": [
        "model = Classfier(784, 125, 65, 10) \n",
        "model"
      ],
      "metadata": {
        "colab": {
          "base_uri": "https://localhost:8080/"
        },
        "id": "1FPWgy0_mc3-",
        "outputId": "eb81de1c-9920-497b-9ae5-b38fa24c98d3"
      },
      "execution_count": 8,
      "outputs": [
        {
          "output_type": "execute_result",
          "data": {
            "text/plain": [
              "Classfier(\n",
              "  (linear1): Linear(in_features=784, out_features=125, bias=True)\n",
              "  (linear2): Linear(in_features=125, out_features=65, bias=True)\n",
              "  (linear3): Linear(in_features=65, out_features=10, bias=True)\n",
              ")"
            ]
          },
          "metadata": {},
          "execution_count": 8
        }
      ]
    },
    {
      "cell_type": "code",
      "source": [
        "criterion = nn.CrossEntropyLoss()\n",
        "optimizer = torch.optim.Adam(model.parameters(), lr = 0.0001)"
      ],
      "metadata": {
        "id": "C9Jo5I1Imz6W"
      },
      "execution_count": 9,
      "outputs": []
    },
    {
      "cell_type": "markdown",
      "source": [
        "## Training"
      ],
      "metadata": {
        "id": "0EH9cW4XrBYQ"
      }
    },
    {
      "cell_type": "code",
      "source": [
        "epochs = 15\n",
        "running_loss_history = []\n",
        "running_corrects_history = []\n",
        "val_running_loss_history = []\n",
        "val_running_corrects_history = []\n",
        "\n",
        "for e in range(epochs):\n",
        "  \n",
        "  running_loss = 0.0\n",
        "  running_corrects = 0.0\n",
        "  val_running_loss = 0.0\n",
        "  val_running_corrects = 0.0\n",
        "  \n",
        "  for inputs, labels in training_loader:\n",
        "    inputs = inputs.view(inputs.shape[0], -1) # 如果是torch.view(a, -1)，则原张量会变成一维的结构。\n",
        "    outputs = model(inputs)\n",
        "    loss = criterion(outputs, labels)\n",
        "    \n",
        "    optimizer.zero_grad()\n",
        "    loss.backward()\n",
        "    optimizer.step()\n",
        "    \n",
        "    _, preds = torch.max(outputs, 1) #返回每一列中最大值的那个元素，且返回索引（返回最大元素在这一列的行索引）\n",
        "    running_loss += loss.item()# 將每一訓練完的結果加回總數\n",
        "    running_corrects += torch.sum(preds == labels.data)\n",
        "\n",
        "  else:\n",
        "    with torch.no_grad():\n",
        "      for val_inputs, val_labels in validation_loader:\n",
        "        val_inputs = val_inputs.view(val_inputs.shape[0], -1)\n",
        "        val_outputs = model(val_inputs)\n",
        "        val_loss = criterion(val_outputs, val_labels)\n",
        "        \n",
        "        _, val_preds = torch.max(val_outputs, 1)\n",
        "        val_running_loss += val_loss.item()\n",
        "        val_running_corrects += torch.sum(val_preds == val_labels.data)\n",
        "      \n",
        "    epoch_loss = running_loss/len(training_loader)\n",
        "    epoch_acc = running_corrects.float()/ len(training_loader)\n",
        "    running_loss_history.append(epoch_loss)\n",
        "    running_corrects_history.append(epoch_acc)\n",
        "    \n",
        "    val_epoch_loss = val_running_loss/len(validation_loader)\n",
        "    val_epoch_acc = val_running_corrects.float()/ len(validation_loader)\n",
        "    val_running_loss_history.append(val_epoch_loss)\n",
        "    val_running_corrects_history.append(val_epoch_acc)\n",
        "    print('epoch :', (e+1))\n",
        "    print('training loss: {:.4f}, acc {:.4f} '.format(epoch_loss, epoch_acc.item()))\n",
        "    print('validation loss: {:.4f}, validation acc {:.4f} '.format(val_epoch_loss, val_epoch_acc.item()))"
      ],
      "metadata": {
        "colab": {
          "base_uri": "https://localhost:8080/"
        },
        "id": "pfVC5ckdrE6K",
        "outputId": "73822d19-cd62-42a9-a70b-dd1c6a99154c"
      },
      "execution_count": 10,
      "outputs": [
        {
          "output_type": "stream",
          "name": "stdout",
          "text": [
            "epoch : 1\n",
            "training loss: 0.9377, acc 76.6017 \n",
            "validation loss: 0.4122, validation acc 88.9400 \n",
            "epoch : 2\n",
            "training loss: 0.3751, acc 89.4617 \n",
            "validation loss: 0.3216, validation acc 91.0700 \n",
            "epoch : 3\n",
            "training loss: 0.3159, acc 90.9000 \n",
            "validation loss: 0.2828, validation acc 91.8600 \n",
            "epoch : 4\n",
            "training loss: 0.2824, acc 91.8550 \n",
            "validation loss: 0.2565, validation acc 92.6500 \n",
            "epoch : 5\n",
            "training loss: 0.2560, acc 92.4850 \n",
            "validation loss: 0.2363, validation acc 93.1000 \n",
            "epoch : 6\n",
            "training loss: 0.2328, acc 93.2633 \n",
            "validation loss: 0.2178, validation acc 93.5700 \n",
            "epoch : 7\n",
            "training loss: 0.2133, acc 93.8217 \n",
            "validation loss: 0.1995, validation acc 94.1800 \n",
            "epoch : 8\n",
            "training loss: 0.1952, acc 94.3867 \n",
            "validation loss: 0.1913, validation acc 94.1200 \n",
            "epoch : 9\n",
            "training loss: 0.1800, acc 94.8633 \n",
            "validation loss: 0.1753, validation acc 94.9400 \n",
            "epoch : 10\n",
            "training loss: 0.1671, acc 95.2133 \n",
            "validation loss: 0.1614, validation acc 95.3000 \n",
            "epoch : 11\n",
            "training loss: 0.1552, acc 95.5333 \n",
            "validation loss: 0.1577, validation acc 95.5500 \n",
            "epoch : 12\n",
            "training loss: 0.1452, acc 95.8650 \n",
            "validation loss: 0.1448, validation acc 95.9100 \n",
            "epoch : 13\n",
            "training loss: 0.1365, acc 96.0267 \n",
            "validation loss: 0.1361, validation acc 96.2300 \n",
            "epoch : 14\n",
            "training loss: 0.1282, acc 96.3300 \n",
            "validation loss: 0.1337, validation acc 96.0600 \n",
            "epoch : 15\n",
            "training loss: 0.1208, acc 96.5400 \n",
            "validation loss: 0.1277, validation acc 96.3700 \n"
          ]
        }
      ]
    },
    {
      "cell_type": "markdown",
      "source": [
        "**output ＝ 輸出預測原始分數結果**\n",
        "\n",
        "[[ 1.2261069e+00 -5.7273965e+00 -4.1954031e+00 -3.6484995e+00\n",
        "  -2.4565067e+00  1.3545682e+00  1.0387512e+01 -5.3805690e+00\n",
        "   3.3601427e-01 -1.1107481e+01]\n",
        " [-1.3542774e+00 -1.5277462e+00 -3.5840625e-01 -5.0116652e-01\n",
        "  -1.1355836e+00 -2.6571882e-01 -3.0248828e+00 -8.7250930e-01\n",
        "   1.0844460e+00  8.2059675e-01]\n",
        " [ 1.0535399e+01 -2.8152704e+01 -8.2211943e+00 -1.5631153e+01\n",
        "  -2.3035938e+01 -1.1812346e+01 -7.9027677e+00 -1.6740650e+01\n",
        "  -9.5602045e+00 -6.5746822e+00]\n",
        " [ 1.6841581e+00 -4.0459881e+00 -5.2802405e+00 -3.5284595e+00\n",
        "  -2.3374493e+00  1.3500847e+00  6.1499205e+00 -3.8639560e+00\n",
        "   1.1507473e+00 -4.3945112e+00]\n",
        " [-3.8497939e+00 -1.0161068e+00 -1.2596358e+00  2.0538642e+00\n",
        "  -2.2537014e+00  5.8658910e-01 -2.4626253e+00 -4.6215944e+00\n",
        "   1.3722317e+00 -2.1360791e+00]\n",
        " [-5.1659923e+00 -6.8063464e+00 -2.8562734e+00 -2.0882232e+00\n",
        "   3.8221255e-01 -2.9005632e+00 -1.3687369e+01  2.3450470e+00\n",
        "  -9.0407890e-01  4.9399509e+00]\n",
        " [-4.0788898e+00 -3.7877328e+00 -1.4883008e+00  1.4184544e+00\n",
        "  -5.2517614e+00 -2.2519267e+00 -1.5924767e+01  4.3276215e+00\n",
        "  -1.1257372e+00  3.2146273e+00]\n",
        " [-7.7456293e+00 -7.5740331e-01  2.4926439e-02  7.7191372e+00\n",
        "  -3.8455017e+00  8.3695984e-01 -1.0358748e+01 -3.1360974e+00\n",
        "   1.6302195e+00  7.6127601e-01]\n",
        " [ 8.8252964e+00 -2.6196466e+01 -6.6488318e+00 -1.5089152e+01\n",
        "  -2.0039001e+01 -1.1642657e+01 -7.0557885e+00 -1.6164896e+01\n",
        "  -8.5983057e+00 -6.5639067e+00]\n",
        " [-3.0094376e+00 -2.9393325e+00 -1.1140752e+00 -1.6939263e+00\n",
        "  -6.2546844e+00 -5.3861895e+00 -2.0039701e+01  9.1067991e+00\n",
        "  -3.3135712e+00  2.5666628e+00]]\n",
        "\n",
        "**pred = 取出最大的分數，表示 model 預測的結果，可以跟 label 比對**\n",
        "\n",
        "[6 8 0 6 3 9 7 3 0 7]\n",
        "\n",
        "比對方法\n",
        "\n",
        "![比對方法](https://imgur.com/FgDRHIT.jpg)"
      ],
      "metadata": {
        "id": "4qKr7CDcGuCR"
      }
    },
    {
      "cell_type": "markdown",
      "source": [
        "## 繪製訓練 Loss"
      ],
      "metadata": {
        "id": "79lq1vSkdnfF"
      }
    },
    {
      "cell_type": "code",
      "source": [
        "plt.plot(running_loss_history, label='training loss')\n",
        "plt.plot(val_running_loss_history, label='validation loss')\n",
        "plt.legend()"
      ],
      "metadata": {
        "colab": {
          "base_uri": "https://localhost:8080/",
          "height": 282
        },
        "id": "x80UcQspB4LT",
        "outputId": "27f33616-73b6-4048-dbf1-d3bb433701e0"
      },
      "execution_count": 11,
      "outputs": [
        {
          "output_type": "execute_result",
          "data": {
            "text/plain": [
              "<matplotlib.legend.Legend at 0x7f9b340026d0>"
            ]
          },
          "metadata": {},
          "execution_count": 11
        },
        {
          "output_type": "display_data",
          "data": {
            "image/png": "[encoded data removed]",
            "text/plain": [
              "<Figure size 432x288 with 1 Axes>"
            ]
          },
          "metadata": {
            "needs_background": "light"
          }
        }
      ]
    },
    {
      "cell_type": "markdown",
      "source": [
        "## 繪製訓練準確率"
      ],
      "metadata": {
        "id": "XgFi1trDduGm"
      }
    },
    {
      "cell_type": "code",
      "source": [
        "plt.plot(running_corrects_history, label='training accuracy')\n",
        "plt.plot(val_running_corrects_history, label='validation accuracy')\n",
        "plt.legend()"
      ],
      "metadata": {
        "colab": {
          "base_uri": "https://localhost:8080/",
          "height": 286
        },
        "id": "z-mJMBAKdbqW",
        "outputId": "0ab015b3-6db6-4fcf-b760-7047b714ba95"
      },
      "execution_count": 12,
      "outputs": [
        {
          "output_type": "execute_result",
          "data": {
            "text/plain": [
              "<matplotlib.legend.Legend at 0x7f9b33f6a110>"
            ]
          },
          "metadata": {},
          "execution_count": 12
        },
        {
          "output_type": "display_data",
          "data": {
            "image/png": "[encoded data removed]",
            "text/plain": [
              "<Figure size 432x288 with 1 Axes>"
            ]
          },
          "metadata": {
            "needs_background": "light"
          }
        }
      ]
    },
    {
      "cell_type": "code",
      "source": [
        "import requests\n",
        "from PIL import Image, ImageOps\n",
        "url = 'https://images.homedepot-static.com/productImages/007164ea-d47e-4f66-8d8c-fd9f621984a2/svn/architectural-mailboxes-house-letters-numbers-3585b-5-64_1000.jpg'\n",
        "response = requests.get(url, stream=True)\n",
        "img = Image.open(response.raw)\n",
        "plt.imshow(img)\n"
      ],
      "metadata": {
        "colab": {
          "base_uri": "https://localhost:8080/",
          "height": 286
        },
        "id": "HA2Tz8Pg6QfD",
        "outputId": "107a9c82-2012-419e-9385-a5f3bd423490"
      },
      "execution_count": 13,
      "outputs": [
        {
          "output_type": "execute_result",
          "data": {
            "text/plain": [
              "<matplotlib.image.AxesImage at 0x7f9b337fa850>"
            ]
          },
          "metadata": {},
          "execution_count": 13
        },
        {
          "output_type": "display_data",
          "data": {
            "image/png": "[encoded data removed]",
            "text/plain": [
              "<Figure size 432x288 with 1 Axes>"
            ]
          },
          "metadata": {
            "needs_background": "light"
          }
        }
      ]
    },
    {
      "cell_type": "markdown",
      "source": [
        "## Test 將原圖轉換為可餵給神經網路的圖片"
      ],
      "metadata": {
        "id": "9weNMi1F-Rk3"
      }
    },
    {
      "cell_type": "code",
      "source": [
        "def transformImgToTensor(raw_image):\n",
        "  raw_image = ImageOps.invert(raw_image) # 將輸入影象轉換為反色影象。\n",
        "  raw_image = raw_image.convert('1')\n",
        "  raw_image = transform(raw_image)\n",
        "  plt.imshow(img_conver(raw_image))\n",
        "  return raw_image\n",
        "\n",
        "img = transformImgToTensor(img)"
      ],
      "metadata": {
        "colab": {
          "base_uri": "https://localhost:8080/",
          "height": 265
        },
        "id": "lrgEuJDj8dWh",
        "outputId": "74c9f36e-f433-4984-a19f-27cea0c83ee6"
      },
      "execution_count": 17,
      "outputs": [
        {
          "output_type": "display_data",
          "data": {
            "image/png": "[encoded data removed]",
            "text/plain": [
              "<Figure size 432x288 with 1 Axes>"
            ]
          },
          "metadata": {
            "needs_background": "light"
          }
        }
      ]
    },
    {
      "cell_type": "markdown",
      "source": [
        "## 真實圖片驗證"
      ],
      "metadata": {
        "id": "FebSSKFl_Mv6"
      }
    },
    {
      "cell_type": "code",
      "source": [
        "def prediction(img_tensor):\n",
        "  img_tensor = img_tensor.view(img_tensor.shape[0], -1) #784*1\n",
        "  output = model(img_tensor)\n",
        "  _, pred = torch.max(output, 1)\n",
        "\n",
        "  return pred.item()\n",
        "\n",
        "print(prediction(img))\n"
      ],
      "metadata": {
        "colab": {
          "base_uri": "https://localhost:8080/"
        },
        "id": "0zpsTgG0-k5Z",
        "outputId": "e3a9c2ab-0891-49a3-a964-61c8cc2d48fe"
      },
      "execution_count": 21,
      "outputs": [
        {
          "output_type": "stream",
          "name": "stdout",
          "text": [
            "5\n"
          ]
        }
      ]
    },
    {
      "cell_type": "code",
      "source": [
        "dataiter = iter(validation_loader)\n",
        "images, labels = dataiter.next()\n",
        "images_ = images.view(images.shape[0], -1)\n",
        "output = model(images_)\n",
        "_, preds = torch.max(output, 1)\n",
        "\n",
        "fig = plt.figure(figsize=(25, 4))\n",
        "\n",
        "for idx in np.arange(20):\n",
        "  ax = fig.add_subplot(2, 10, idx+1, xticks=[], yticks=[])\n",
        "  plt.imshow(img_conver(images[idx]))\n",
        "  ax.set_title(\"{} ({})\".format(str(preds[idx].item()), str(labels[idx].item())), color=(\"green\" if preds[idx]==labels[idx] else \"red\"))"
      ],
      "metadata": {
        "colab": {
          "base_uri": "https://localhost:8080/",
          "height": 268
        },
        "id": "HPOJV2ZZ_tRS",
        "outputId": "48aa672e-c947-47f0-8a1c-2b433dcff8d5"
      },
      "execution_count": 22,
      "outputs": [
        {
          "output_type": "display_data",
          "data": {
            "image/png": "[encoded data removed]",
            "text/plain": [
              "<Figure size 1800x288 with 20 Axes>"
            ]
          },
          "metadata": {}
        }
      ]
    },
    {
      "cell_type": "markdown",
      "source": [
        "# 語法解釋"
      ],
      "metadata": {
        "id": "RVZd9MQ_7jgi"
      }
    },
    {
      "cell_type": "markdown",
      "source": [
        "### PIL.Image/numpy.ndarray与Tensor的相互转换\n",
        "PIL.Image/numpy.ndarray转化为Tensor，常常用在训练模型阶段的数据读取，而Tensor转化为PIL.Image/numpy.ndarray则用在验证模型阶段的数据输出。\n",
        "\n",
        "我们可以使用 transforms.ToTensor() 将 PIL.Image/numpy.ndarray 数据进转化为torch.FloadTensor，并归一化到[0, 1.0]：\n",
        "\n",
        "*(C= chanel, H= height, W=width)*\n",
        "\n",
        "取值范围为[0, 255]的PIL.Image，转换成形状为[C, H, W]，取值范围是[0, 1.0]的torch.FloadTensor；\n",
        "形状为[H, W, C]的numpy.ndarray，转换成形状为[C, H, W]，取值范围是[0, 1.0]的torch.FloadTensor。\n",
        "而transforms.ToPILImage则是将Tensor转化为PIL.Image。如果，我们要将Tensor转化为numpy，只需要使用 .numpy() 即可。如下：\n",
        "\n",
        "img_path = \"./data/img_37.jpg\"\n",
        "\n",
        "\n",
        "```\n",
        "# transforms.ToTensor()\n",
        "transform1 = transforms.Compose([\n",
        "    transforms.ToTensor(), # range [0, 255] -> [0.0,1.0]\n",
        "    ]\n",
        ")\n",
        "\n",
        "```\n",
        "\n",
        "### 归一化\n",
        "归一化对神经网络的训练是非常重要的，那么我们如何归一化到[-1.0, -1.0]呢？只需要将上面的transform1改为如下所示：\n",
        "\n",
        "\n",
        "\n",
        "```\n",
        "transform2 = transforms.Compose([\n",
        "    transforms.ToTensor(),\n",
        "    transforms.Normalize(mean = (0.5, 0.5, 0.5), std = (0.5, 0.5, 0.5))\n",
        "    ]\n",
        ")\n",
        "```\n",
        "\n",
        "\n",
        "（1）transforms.Compose就是将transforms组合在一起；\n",
        "\n",
        "（2）transforms.Normalize使用如下公式进行归一化：\n",
        "\n",
        "channel=（channel-mean）/std\n",
        "\n",
        "这样一来，我们的数据中的每个值就变成了[-1,1]的数了。\n",
        "\n"
      ],
      "metadata": {
        "id": "UFM8KlY0XfjY"
      }
    },
    {
      "cell_type": "markdown",
      "source": [
        "Clip 方法"
      ],
      "metadata": {
        "id": "hOzMpHMZtd6W"
      }
    },
    {
      "cell_type": "code",
      "source": [
        "a = np.array([0, 1, 2, 3, 4, 5, 6, 7, 8, 9])\n",
        "a.clip(0, 1) #大於 1 的皆轉為 1"
      ],
      "metadata": {
        "id": "4VdYxRRDs19D"
      },
      "execution_count": null,
      "outputs": []
    },
    {
      "cell_type": "markdown",
      "source": [
        "## Cross Entropy Loss 範例\n",
        "\n",
        "與 MSE 比較與公式：\n",
        "\n",
        "  MSE 較適用於線性問題\n",
        "\n",
        "  BCE 較適用於分類問題\n",
        "\n",
        "![formula](https://imgur.com/JRekF6M.jpg)\n",
        "\n",
        "m 是 data 的數量"
      ],
      "metadata": {
        "id": "2TYdpZslglEF"
      }
    },
    {
      "cell_type": "code",
      "source": [
        "x_input=torch.randn(3,3)#随机生成输入 \n",
        "print('x_input:\\n',x_input) \n",
        "y_target=torch.tensor([1,2,0])#设置输出具体值 print('y_target\\n',y_target)\n",
        "\n",
        "#计算输入softmax，此时可以看到每一行加到一起结果都是1\n",
        "softmax_func=nn.Softmax(dim=1)\n",
        "soft_output=softmax_func(x_input)\n",
        "print('soft_output:\\n',soft_output)\n",
        "\n",
        "#在softmax的基础上取log\n",
        "log_output=torch.log(soft_output)\n",
        "print('log_output:\\n',log_output)\n",
        "\n",
        "#对比softmax与log的结合与nn.LogSoftmaxloss(负对数似然损失)的输出结果，发现两者是一致的。\n",
        "logsoftmax_func=nn.LogSoftmax(dim=1)\n",
        "logsoftmax_output=logsoftmax_func(x_input)\n",
        "print('logsoftmax_output:\\n',logsoftmax_output)\n",
        "\n",
        "#pytorch中关于NLLLoss的默认参数配置为：reducetion=True、size_average=True\n",
        "nllloss_func=nn.NLLLoss()\n",
        "nlloss_output=nllloss_func(logsoftmax_output,y_target)\n",
        "print('nlloss_output:\\n',nlloss_output)\n",
        "\n",
        "#直接使用pytorch中的loss_func=nn.CrossEntropyLoss()看与经过NLLLoss的计算是不是一样\n",
        "crossentropyloss=nn.CrossEntropyLoss()\n",
        "crossentropyloss_output=crossentropyloss(x_input,y_target)\n",
        "print('crossentropyloss_output:\\n',crossentropyloss_output)"
      ],
      "metadata": {
        "id": "0zCrMowvd2rM"
      },
      "execution_count": null,
      "outputs": []
    },
    {
      "cell_type": "markdown",
      "source": [
        "## 改變張量維度語法 view"
      ],
      "metadata": {
        "id": "0QcF5PpyuwyV"
      }
    },
    {
      "cell_type": "code",
      "source": [
        "view_samaple = torch.tensor([[1, 2],\n",
        "                              [3, 4],\n",
        "                              [5, 6]])\n",
        "result = view_samaple.view(2,-1)\n",
        "result\n",
        "\n",
        "#由上面的案例可以看到，如果是torch.view(参数a，-1)，则表示在参数b未知，参数a已知的情况下自动补齐列向量长度，在这个例子中a=2，tt3总共由6个元素，则b=6/2=3。"
      ],
      "metadata": {
        "id": "KxktK1gYtt6y"
      },
      "execution_count": null,
      "outputs": []
    }
  ]
}