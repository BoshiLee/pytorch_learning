{
  "nbformat": 4,
  "nbformat_minor": 0,
  "metadata": {
    "colab": {
      "name": "mnist.ipynb",
      "provenance": [],
      "collapsed_sections": [],
      "authorship_tag": "ABX9TyOGPL+HrM26hhxE8drlJvnN",
      "include_colab_link": true
    },
    "kernelspec": {
      "name": "python3",
      "display_name": "Python 3"
    },
    "language_info": {
      "name": "python"
    }
  },
  "cells": [
    {
      "cell_type": "markdown",
      "metadata": {
        "id": "view-in-github",
        "colab_type": "text"
      },
      "source": [
        "<a href=\"https://colab.research.google.com/github/BoshiLee/pytorch_learning/blob/main/mnist.ipynb\" target=\"_parent\"><img src=\"https://colab.research.google.com/assets/colab-badge.svg\" alt=\"Open In Colab\"/></a>"
      ]
    },
    {
      "cell_type": "code",
      "execution_count": 1,
      "metadata": {
        "colab": {
          "base_uri": "https://localhost:8080/"
        },
        "id": "EyR3kGu_SBXp",
        "outputId": "184dd827-5dca-4f0b-8a18-89d438fcc361"
      },
      "outputs": [
        {
          "output_type": "stream",
          "name": "stdout",
          "text": [
            "Requirement already satisfied: torch in /usr/local/lib/python3.7/dist-packages (1.10.0+cu111)\n",
            "Requirement already satisfied: torchvision in /usr/local/lib/python3.7/dist-packages (0.11.1+cu111)\n",
            "Requirement already satisfied: typing-extensions in /usr/local/lib/python3.7/dist-packages (from torch) (3.10.0.2)\n",
            "Requirement already satisfied: numpy in /usr/local/lib/python3.7/dist-packages (from torchvision) (1.19.5)\n",
            "Requirement already satisfied: pillow!=8.3.0,>=5.3.0 in /usr/local/lib/python3.7/dist-packages (from torchvision) (7.1.2)\n"
          ]
        }
      ],
      "source": [
        "!pip3 install torch torchvision"
      ]
    },
    {
      "cell_type": "code",
      "source": [
        "import torch\n",
        "import numpy as np\n",
        "import matplotlib.pyplot as plt\n",
        "from torch import nn\n",
        "import torch.nn.functional as F\n",
        "from torchvision import datasets, transforms"
      ],
      "metadata": {
        "id": "62O8P_v4S8BQ"
      },
      "execution_count": 2,
      "outputs": []
    },
    {
      "cell_type": "markdown",
      "source": [
        "`dset.MNIST(root, train=True, transform=None, transform=None, download=False)`\n",
        "\n",
        "参数说明\n",
        "1. root : processed/training.pt 和 processed/test.pt 的主目录\n",
        "2. train : True = 训练集, False = 测试集\n",
        "3. download : True = 从互联网上下载数据集，并把数据集放在root目录下. 如果数据集之前下载过，将处理过的数据（minist.py中有相关函数）放在processed文件夹下。\n",
        "4. transform：對影像進行的處理\n",
        "\n",
        "[其他資料集](https://codingdict.com/sources/py/torchvision.datasets/15805.html)"
      ],
      "metadata": {
        "id": "mEbsCfW4V_G3"
      }
    },
    {
      "cell_type": "markdown",
      "source": [
        "## 下載 Data 並實作歸一轉換"
      ],
      "metadata": {
        "id": "Nbr479kH6jRN"
      }
    },
    {
      "cell_type": "code",
      "source": [
        "transform = transforms.Compose([transforms.ToTensor(),\n",
        "                                transforms.Normalize((0.5,), (0.5,)) \n",
        "                                ]) #把灰階從0~255壓縮到0~1\n",
        "training_dataset = datasets.MNIST(root='./data', train=True, download=True, transform=transform)\n",
        "validation_dataset = datasets.MNIST(root='./data', train=False, download=True, transform=transform)"
      ],
      "metadata": {
        "id": "OpdJI6AzTP0P"
      },
      "execution_count": 3,
      "outputs": []
    },
    {
      "cell_type": "markdown",
      "source": [
        "## training_loader 將 60000 筆圖像資料分成 600 個 batch"
      ],
      "metadata": {
        "id": "yiKexXRMvRXO"
      }
    },
    {
      "cell_type": "code",
      "source": [
        "training_loader = torch.utils.data.DataLoader(training_dataset, batch_size=100, shuffle=True)\n",
        "validation_loader = torch.utils.data.DataLoader(validation_dataset, batch_size = 100, shuffle=False)"
      ],
      "metadata": {
        "id": "AKqN1_ZOZpCI"
      },
      "execution_count": 4,
      "outputs": []
    },
    {
      "cell_type": "markdown",
      "source": [
        "## 轉換圖片回可以被 pyplot 使用的格式"
      ],
      "metadata": {
        "id": "jrAIEpGx67A4"
      }
    },
    {
      "cell_type": "markdown",
      "source": [
        "先前轉換 tensor 的方法，現在再轉換回去\n",
        "![](https://imgur.com/MNL0WoI.jpg)"
      ],
      "metadata": {
        "id": "jkYwDEAamfJA"
      }
    },
    {
      "cell_type": "code",
      "source": [
        "def img_conver(tensor: torch.Tensor):\n",
        "  image = tensor.clone().detach().numpy()\n",
        "  image = image.transpose(1, 2, 0)\n",
        "  image = image * np.array((1, 1, 1)) #將原本用 0~1 表達的灰階轉換爲 [c, h, w]\n",
        "  image = image.clip(0, 1)\n",
        "  return image"
      ],
      "metadata": {
        "id": "EtjnEgGOhCqE"
      },
      "execution_count": 5,
      "outputs": []
    },
    {
      "cell_type": "markdown",
      "source": [
        "## 畫出 Dataset 的模樣\n",
        "\n",
        "![](https://imgur.com/E99GZVX.jpg)"
      ],
      "metadata": {
        "id": "PGTiSb8-357D"
      }
    },
    {
      "cell_type": "code",
      "source": [
        "data_iter = iter(training_loader)\n",
        "(images, labels) = data_iter.next()\n",
        "fig = plt.figure(figsize=(25, 6))\n",
        "for idx in np.arange(10):\n",
        "  ax = fig.add_subplot(2, 10, idx+1) #\n",
        "  con_im = img_conver(images[idx])\n",
        "  plt.imshow(con_im)\n",
        "  ax.set_xticks([])\n",
        "  ax.set_yticks([])\n",
        "  ax.set_title(label=labels[idx].item())"
      ],
      "metadata": {
        "colab": {
          "base_uri": "https://localhost:8080/",
          "height": 169
        },
        "id": "i2uorb6twr47",
        "outputId": "fcf18cb2-0dea-4333-e1ce-6aadba588bdb"
      },
      "execution_count": 6,
      "outputs": [
        {
          "output_type": "display_data",
          "data": {
            "image/png": "[encoded data removed]",
            "text/plain": [
              "<Figure size 1800x432 with 10 Axes>"
            ]
          },
          "metadata": {}
        }
      ]
    },
    {
      "cell_type": "markdown",
      "source": [
        "![log](https://imgur.com/bYArXJf.jpg)\n",
        "\n",
        "\n",
        "\n",
        "```\n",
        "nn.CrossEntropyLoss()\n",
        "```\n",
        "\n",
        "该损失函数结合了nn.LogSoftmax()和nn.NLLLoss()两个函数。它在做分类（具体几类）训练的时候是非常有用的。在训练过程中，对于每个类分配权值，可选的参数权值应该是一个1D张量。当你有一个不平衡的训练集时，这是是非常有用的。那么针对这个函数，下面将做详细的介绍。\n",
        "\n",
        "[nn.CrossEntropyLoss() 介紹](https://zhuanlan.zhihu.com/p/98785902)\n",
        "\n"
      ],
      "metadata": {
        "id": "StIh5ujza0WP"
      }
    },
    {
      "cell_type": "code",
      "source": [
        "class Classfier(nn.Module):\n",
        "  def __init__(self, D_in, H1, H2, D_out):\n",
        "    super().__init__();\n",
        "    self.linear1 = nn.Linear(D_in, H1)\n",
        "    self.linear2 = nn.Linear(H1, H2)\n",
        "    self.linear3 = nn.Linear(H2, D_out)\n",
        "  \n",
        "  def forward(self, x):\n",
        "    x = F.relu(self.linear1(x)) # 輸入位給第一層 hidden layer 後再將輸出給下一層用\n",
        "    x = F.relu(self.linear2(x)) # 輸入位給第二層 hidden layer 給輸出曾使用\n",
        "    x = self.linear3(x) # 這裡不用 softmax 去做分類，課程是說等等可以用原始輸出給 nn.CrossEntropyLoss\n",
        "    return x\n"
      ],
      "metadata": {
        "id": "d1Kr0URGKY-3"
      },
      "execution_count": 7,
      "outputs": []
    },
    {
      "cell_type": "markdown",
      "source": [
        "## initail classfier\n",
        "28 * 28 = 784 個數入端\n",
        "h1 125 個節點\n",
        "h2 65 個節點\n",
        "最後輸出 10 個的機率"
      ],
      "metadata": {
        "id": "Xjio_iwKmijm"
      }
    },
    {
      "cell_type": "code",
      "source": [
        "model = Classfier(784, 125, 65, 10) \n",
        "model"
      ],
      "metadata": {
        "colab": {
          "base_uri": "https://localhost:8080/"
        },
        "id": "1FPWgy0_mc3-",
        "outputId": "4ec870a2-3c03-4487-c607-8b3da0452946"
      },
      "execution_count": 8,
      "outputs": [
        {
          "output_type": "execute_result",
          "data": {
            "text/plain": [
              "Classfier(\n",
              "  (linear1): Linear(in_features=784, out_features=125, bias=True)\n",
              "  (linear2): Linear(in_features=125, out_features=65, bias=True)\n",
              "  (linear3): Linear(in_features=65, out_features=10, bias=True)\n",
              ")"
            ]
          },
          "metadata": {},
          "execution_count": 8
        }
      ]
    },
    {
      "cell_type": "code",
      "source": [
        "criterion = nn.CrossEntropyLoss()\n",
        "optimizer = torch.optim.Adam(model.parameters(), lr = 0.0001)"
      ],
      "metadata": {
        "id": "C9Jo5I1Imz6W"
      },
      "execution_count": 9,
      "outputs": []
    },
    {
      "cell_type": "markdown",
      "source": [
        "## Training"
      ],
      "metadata": {
        "id": "0EH9cW4XrBYQ"
      }
    },
    {
      "cell_type": "code",
      "source": [
        "epochs = 15\n",
        "\n",
        "running_loss_history = []\n",
        "running_correct_history = []\n",
        "val_running_loss_history = []\n",
        "val_running_correct_history = []\n",
        "\n",
        "def validation_process():\n",
        "  correct = 0.0\n",
        "  with torch.no_grad():\n",
        "    for (val_inputs, val_labels) in validation_loader:\n",
        "      val_inputs = val_inputs.view(val_inputs.shape[0], -1) # 如果是torch.view(a, -1)，则原张量会变成一维的结构。\n",
        "      val_outputs = model.forward(val_inputs)\n",
        "      val_loss = criterion(val_outputs, val_labels) #loss function\n",
        "\n",
        "      _, val_preds = torch.max(val_outputs, 1) #返回每一列中最大值的那个元素，且返回索引（返回最大元素在这一列的行索引）\n",
        "      val_loss += val_loss.item() # 將每一訓練完的結果加回總數\n",
        "      correct += torch.sum(val_preds == val_labels.data)\n",
        "    return val_loss, correct\n",
        "\n",
        "def record_epoch(title:str, losses, corrects, loader_lenth):\n",
        "    epoch_loss = losses / loader_lenth # 將損失總數除上一個 batch 的資料總數就可以到此次 batch 訓練出來損失多少\n",
        "    epoch_accuracy = corrects.float() / loader_lenth\n",
        "\n",
        "    print(title + \" loss: {:.4f}\".format(epoch_loss))\n",
        "    print(title + \" accuracy: {:.4f}\".format(epoch_accuracy.item()))\n",
        "\n",
        "    return epoch_loss, epoch_accuracy\n",
        "\n",
        "\n",
        "def traing_process():\n",
        "  running_loss = 0.0\n",
        "  running_corrects = 0.0\n",
        "  val_running_loss = 0.0\n",
        "  val_running_corrects = 0.0\n",
        "  for (inputs, labels) in training_loader:\n",
        "    inputs = inputs.view(inputs.shape[0], -1) # 如果是torch.view(a, -1)，则原张量会变成一维的结构。\n",
        "    outputs = model.forward(inputs)\n",
        "    loss = criterion(outputs, labels) #loss function\n",
        "    optimizer.zero_grad()\n",
        "    loss.backward()\n",
        "    optimizer.step()\n",
        "    _, preds = torch.max(outputs, 1) #返回每一列中最大值的那个元素，且返回索引（返回最大元素在这一列的行索引）\n",
        "    running_loss += loss.item() # 將每一訓練完的結果加回總數\n",
        "    running_corrects += torch.sum(preds == labels.data)\n",
        "  else:\n",
        "    \n",
        "    val_running_loss, val_running_corrects = validation_process()\n",
        "    training_epoch_loss, training_epoch_accuracy = record_epoch(\n",
        "        title=\"Training\",\n",
        "        losses=running_loss,\n",
        "        corrects=running_corrects,\n",
        "        loader_lenth=len(training_loader)\n",
        "        )\n",
        "    \n",
        "    running_loss_history.append(training_epoch_loss)\n",
        "    running_correct_history.append(training_epoch_accuracy)\n",
        "    \n",
        "    val_epoch_loss, val_epoch_accuracy = record_epoch(\n",
        "        title='Validation',\n",
        "        losses=val_running_loss,\n",
        "        corrects=val_running_corrects,\n",
        "        loader_lenth=len(validation_loader)\n",
        "        )\n",
        "    \n",
        "    val_running_loss_history.append(val_epoch_loss)\n",
        "    val_running_correct_history.append(val_epoch_accuracy)\n",
        "\n",
        "for e in range(epochs):\n",
        "  traing_process()"
      ],
      "metadata": {
        "colab": {
          "base_uri": "https://localhost:8080/"
        },
        "id": "pfVC5ckdrE6K",
        "outputId": "39b35c45-c067-4cc8-cc62-09bb9174fa21"
      },
      "execution_count": 10,
      "outputs": [
        {
          "output_type": "stream",
          "name": "stdout",
          "text": [
            "Training loss: 0.9475\n",
            "Training accuracy: 77.3217\n",
            "Validation loss: 0.0126\n",
            "Validation accuracy: 88.4700\n",
            "Training loss: 0.3822\n",
            "Training accuracy: 89.1933\n",
            "Validation loss: 0.0097\n",
            "Validation accuracy: 90.6600\n",
            "Training loss: 0.3195\n",
            "Training accuracy: 90.7050\n",
            "Validation loss: 0.0088\n",
            "Validation accuracy: 91.8500\n",
            "Training loss: 0.2871\n",
            "Training accuracy: 91.6900\n",
            "Validation loss: 0.0081\n",
            "Validation accuracy: 92.2500\n",
            "Training loss: 0.2600\n",
            "Training accuracy: 92.4150\n",
            "Validation loss: 0.0073\n",
            "Validation accuracy: 92.8200\n",
            "Training loss: 0.2365\n",
            "Training accuracy: 93.1650\n",
            "Validation loss: 0.0063\n",
            "Validation accuracy: 93.6600\n",
            "Training loss: 0.2156\n",
            "Training accuracy: 93.7233\n",
            "Validation loss: 0.0057\n",
            "Validation accuracy: 94.1400\n",
            "Training loss: 0.1981\n",
            "Training accuracy: 94.2283\n",
            "Validation loss: 0.0052\n",
            "Validation accuracy: 94.5700\n",
            "Training loss: 0.1823\n",
            "Training accuracy: 94.6783\n",
            "Validation loss: 0.0046\n",
            "Validation accuracy: 94.8200\n",
            "Training loss: 0.1685\n",
            "Training accuracy: 95.0967\n",
            "Validation loss: 0.0045\n",
            "Validation accuracy: 95.1000\n",
            "Training loss: 0.1574\n",
            "Training accuracy: 95.4300\n",
            "Validation loss: 0.0038\n",
            "Validation accuracy: 95.5400\n",
            "Training loss: 0.1468\n",
            "Training accuracy: 95.7000\n",
            "Validation loss: 0.0033\n",
            "Validation accuracy: 95.5800\n",
            "Training loss: 0.1381\n",
            "Training accuracy: 95.9667\n",
            "Validation loss: 0.0031\n",
            "Validation accuracy: 95.7600\n",
            "Training loss: 0.1292\n",
            "Training accuracy: 96.2233\n",
            "Validation loss: 0.0034\n",
            "Validation accuracy: 95.8400\n",
            "Training loss: 0.1224\n",
            "Training accuracy: 96.4417\n",
            "Validation loss: 0.0027\n",
            "Validation accuracy: 96.0800\n"
          ]
        }
      ]
    },
    {
      "cell_type": "markdown",
      "source": [
        "**output ＝ 輸出預測原始分數結果**\n",
        "\n",
        "[[ 1.2261069e+00 -5.7273965e+00 -4.1954031e+00 -3.6484995e+00\n",
        "  -2.4565067e+00  1.3545682e+00  1.0387512e+01 -5.3805690e+00\n",
        "   3.3601427e-01 -1.1107481e+01]\n",
        " [-1.3542774e+00 -1.5277462e+00 -3.5840625e-01 -5.0116652e-01\n",
        "  -1.1355836e+00 -2.6571882e-01 -3.0248828e+00 -8.7250930e-01\n",
        "   1.0844460e+00  8.2059675e-01]\n",
        " [ 1.0535399e+01 -2.8152704e+01 -8.2211943e+00 -1.5631153e+01\n",
        "  -2.3035938e+01 -1.1812346e+01 -7.9027677e+00 -1.6740650e+01\n",
        "  -9.5602045e+00 -6.5746822e+00]\n",
        " [ 1.6841581e+00 -4.0459881e+00 -5.2802405e+00 -3.5284595e+00\n",
        "  -2.3374493e+00  1.3500847e+00  6.1499205e+00 -3.8639560e+00\n",
        "   1.1507473e+00 -4.3945112e+00]\n",
        " [-3.8497939e+00 -1.0161068e+00 -1.2596358e+00  2.0538642e+00\n",
        "  -2.2537014e+00  5.8658910e-01 -2.4626253e+00 -4.6215944e+00\n",
        "   1.3722317e+00 -2.1360791e+00]\n",
        " [-5.1659923e+00 -6.8063464e+00 -2.8562734e+00 -2.0882232e+00\n",
        "   3.8221255e-01 -2.9005632e+00 -1.3687369e+01  2.3450470e+00\n",
        "  -9.0407890e-01  4.9399509e+00]\n",
        " [-4.0788898e+00 -3.7877328e+00 -1.4883008e+00  1.4184544e+00\n",
        "  -5.2517614e+00 -2.2519267e+00 -1.5924767e+01  4.3276215e+00\n",
        "  -1.1257372e+00  3.2146273e+00]\n",
        " [-7.7456293e+00 -7.5740331e-01  2.4926439e-02  7.7191372e+00\n",
        "  -3.8455017e+00  8.3695984e-01 -1.0358748e+01 -3.1360974e+00\n",
        "   1.6302195e+00  7.6127601e-01]\n",
        " [ 8.8252964e+00 -2.6196466e+01 -6.6488318e+00 -1.5089152e+01\n",
        "  -2.0039001e+01 -1.1642657e+01 -7.0557885e+00 -1.6164896e+01\n",
        "  -8.5983057e+00 -6.5639067e+00]\n",
        " [-3.0094376e+00 -2.9393325e+00 -1.1140752e+00 -1.6939263e+00\n",
        "  -6.2546844e+00 -5.3861895e+00 -2.0039701e+01  9.1067991e+00\n",
        "  -3.3135712e+00  2.5666628e+00]]\n",
        "\n",
        "**pred = 取出最大的分數，表示 model 預測的結果，可以跟 label 比對**\n",
        "\n",
        "[6 8 0 6 3 9 7 3 0 7]\n",
        "\n",
        "比對方法\n",
        "\n",
        "![比對方法](https://imgur.com/FgDRHIT.jpg)"
      ],
      "metadata": {
        "id": "4qKr7CDcGuCR"
      }
    },
    {
      "cell_type": "markdown",
      "source": [
        "## 繪製訓練 Loss"
      ],
      "metadata": {
        "id": "79lq1vSkdnfF"
      }
    },
    {
      "cell_type": "code",
      "source": [
        "plt.plot(running_loss_history, label='training loss')\n",
        "plt.plot(val_running_loss_history, label='validation loss')\n",
        "plt.legend()\n",
        "plt.show()"
      ],
      "metadata": {
        "colab": {
          "base_uri": "https://localhost:8080/",
          "height": 265
        },
        "id": "x80UcQspB4LT",
        "outputId": "f2a38300-baad-4abf-b2cb-6bc48d01f984"
      },
      "execution_count": 11,
      "outputs": [
        {
          "output_type": "display_data",
          "data": {
            "image/png": "[encoded data removed]",
            "text/plain": [
              "<Figure size 432x288 with 1 Axes>"
            ]
          },
          "metadata": {
            "needs_background": "light"
          }
        }
      ]
    },
    {
      "cell_type": "markdown",
      "source": [
        "## 繪製訓練準確率"
      ],
      "metadata": {
        "id": "XgFi1trDduGm"
      }
    },
    {
      "cell_type": "code",
      "source": [
        "plt.plot(running_correct_history, label='training accuracy')\n",
        "plt.plot(val_running_correct_history, label='validation accuracy')\n",
        "plt.legend()\n",
        "plt.show()"
      ],
      "metadata": {
        "colab": {
          "base_uri": "https://localhost:8080/",
          "height": 265
        },
        "id": "z-mJMBAKdbqW",
        "outputId": "87545dd1-ab3f-42c9-d47c-23019c5b1ab8"
      },
      "execution_count": 14,
      "outputs": [
        {
          "output_type": "display_data",
          "data": {
            "image/png": "[encoded data removed]",
            "text/plain": [
              "<Figure size 432x288 with 1 Axes>"
            ]
          },
          "metadata": {
            "needs_background": "light"
          }
        }
      ]
    },
    {
      "cell_type": "markdown",
      "source": [
        "# 語法解釋"
      ],
      "metadata": {
        "id": "RVZd9MQ_7jgi"
      }
    },
    {
      "cell_type": "markdown",
      "source": [
        "### PIL.Image/numpy.ndarray与Tensor的相互转换\n",
        "PIL.Image/numpy.ndarray转化为Tensor，常常用在训练模型阶段的数据读取，而Tensor转化为PIL.Image/numpy.ndarray则用在验证模型阶段的数据输出。\n",
        "\n",
        "我们可以使用 transforms.ToTensor() 将 PIL.Image/numpy.ndarray 数据进转化为torch.FloadTensor，并归一化到[0, 1.0]：\n",
        "\n",
        "*(C= chanel, H= height, W=width)*\n",
        "\n",
        "取值范围为[0, 255]的PIL.Image，转换成形状为[C, H, W]，取值范围是[0, 1.0]的torch.FloadTensor；\n",
        "形状为[H, W, C]的numpy.ndarray，转换成形状为[C, H, W]，取值范围是[0, 1.0]的torch.FloadTensor。\n",
        "而transforms.ToPILImage则是将Tensor转化为PIL.Image。如果，我们要将Tensor转化为numpy，只需要使用 .numpy() 即可。如下：\n",
        "\n",
        "img_path = \"./data/img_37.jpg\"\n",
        "\n",
        "\n",
        "```\n",
        "# transforms.ToTensor()\n",
        "transform1 = transforms.Compose([\n",
        "    transforms.ToTensor(), # range [0, 255] -> [0.0,1.0]\n",
        "    ]\n",
        ")\n",
        "\n",
        "```\n",
        "\n",
        "### 归一化\n",
        "归一化对神经网络的训练是非常重要的，那么我们如何归一化到[-1.0, -1.0]呢？只需要将上面的transform1改为如下所示：\n",
        "\n",
        "\n",
        "\n",
        "```\n",
        "transform2 = transforms.Compose([\n",
        "    transforms.ToTensor(),\n",
        "    transforms.Normalize(mean = (0.5, 0.5, 0.5), std = (0.5, 0.5, 0.5))\n",
        "    ]\n",
        ")\n",
        "```\n",
        "\n",
        "\n",
        "（1）transforms.Compose就是将transforms组合在一起；\n",
        "\n",
        "（2）transforms.Normalize使用如下公式进行归一化：\n",
        "\n",
        "channel=（channel-mean）/std\n",
        "\n",
        "这样一来，我们的数据中的每个值就变成了[-1,1]的数了。\n",
        "\n"
      ],
      "metadata": {
        "id": "UFM8KlY0XfjY"
      }
    },
    {
      "cell_type": "markdown",
      "source": [
        "Clip 方法"
      ],
      "metadata": {
        "id": "hOzMpHMZtd6W"
      }
    },
    {
      "cell_type": "code",
      "source": [
        "a = np.array([0, 1, 2, 3, 4, 5, 6, 7, 8, 9])\n",
        "a.clip(0, 1) #大於 1 的皆轉為 1"
      ],
      "metadata": {
        "colab": {
          "base_uri": "https://localhost:8080/"
        },
        "id": "4VdYxRRDs19D",
        "outputId": "9f7b933a-9c43-4049-8dde-64d7324782a2"
      },
      "execution_count": 15,
      "outputs": [
        {
          "output_type": "execute_result",
          "data": {
            "text/plain": [
              "array([0, 1, 1, 1, 1, 1, 1, 1, 1, 1])"
            ]
          },
          "metadata": {},
          "execution_count": 15
        }
      ]
    },
    {
      "cell_type": "markdown",
      "source": [
        "## Cross Entropy Loss 範例\n",
        "\n",
        "與 MSE 比較與公式：\n",
        "\n",
        "  MSE 較適用於線性問題\n",
        "\n",
        "  BCE 較適用於分類問題\n",
        "\n",
        "![formula](https://imgur.com/JRekF6M.jpg)\n",
        "\n",
        "m 是 data 的數量"
      ],
      "metadata": {
        "id": "2TYdpZslglEF"
      }
    },
    {
      "cell_type": "code",
      "source": [
        "x_input=torch.randn(3,3)#随机生成输入 \n",
        "print('x_input:\\n',x_input) \n",
        "y_target=torch.tensor([1,2,0])#设置输出具体值 print('y_target\\n',y_target)\n",
        "\n",
        "#计算输入softmax，此时可以看到每一行加到一起结果都是1\n",
        "softmax_func=nn.Softmax(dim=1)\n",
        "soft_output=softmax_func(x_input)\n",
        "print('soft_output:\\n',soft_output)\n",
        "\n",
        "#在softmax的基础上取log\n",
        "log_output=torch.log(soft_output)\n",
        "print('log_output:\\n',log_output)\n",
        "\n",
        "#对比softmax与log的结合与nn.LogSoftmaxloss(负对数似然损失)的输出结果，发现两者是一致的。\n",
        "logsoftmax_func=nn.LogSoftmax(dim=1)\n",
        "logsoftmax_output=logsoftmax_func(x_input)\n",
        "print('logsoftmax_output:\\n',logsoftmax_output)\n",
        "\n",
        "#pytorch中关于NLLLoss的默认参数配置为：reducetion=True、size_average=True\n",
        "nllloss_func=nn.NLLLoss()\n",
        "nlloss_output=nllloss_func(logsoftmax_output,y_target)\n",
        "print('nlloss_output:\\n',nlloss_output)\n",
        "\n",
        "#直接使用pytorch中的loss_func=nn.CrossEntropyLoss()看与经过NLLLoss的计算是不是一样\n",
        "crossentropyloss=nn.CrossEntropyLoss()\n",
        "crossentropyloss_output=crossentropyloss(x_input,y_target)\n",
        "print('crossentropyloss_output:\\n',crossentropyloss_output)"
      ],
      "metadata": {
        "colab": {
          "base_uri": "https://localhost:8080/"
        },
        "id": "0zCrMowvd2rM",
        "outputId": "10cbaef6-76f9-49c9-d41e-3c3a20465915"
      },
      "execution_count": 16,
      "outputs": [
        {
          "output_type": "stream",
          "name": "stdout",
          "text": [
            "x_input:\n",
            " tensor([[-0.1624, -2.3504,  0.7471],\n",
            "        [ 0.3480,  1.5808,  0.9603],\n",
            "        [-0.1986,  1.7240, -0.7129]])\n",
            "soft_output:\n",
            " tensor([[0.2781, 0.0312, 0.6907],\n",
            "        [0.1593, 0.5467, 0.2939],\n",
            "        [0.1185, 0.8106, 0.0709]])\n",
            "log_output:\n",
            " tensor([[-1.2796, -3.4677, -0.3701],\n",
            "        [-1.8367, -0.6038, -1.2244],\n",
            "        [-2.1326, -0.2100, -2.6469]])\n",
            "logsoftmax_output:\n",
            " tensor([[-1.2796, -3.4677, -0.3701],\n",
            "        [-1.8367, -0.6038, -1.2244],\n",
            "        [-2.1326, -0.2100, -2.6469]])\n",
            "nlloss_output:\n",
            " tensor(2.2749)\n",
            "crossentropyloss_output:\n",
            " tensor(2.2749)\n"
          ]
        }
      ]
    },
    {
      "cell_type": "markdown",
      "source": [
        "## 改變張量維度語法 view"
      ],
      "metadata": {
        "id": "0QcF5PpyuwyV"
      }
    },
    {
      "cell_type": "code",
      "source": [
        "view_samaple = torch.tensor([[1, 2],\n",
        "                              [3, 4],\n",
        "                              [5, 6]])\n",
        "result = view_samaple.view(2,-1)\n",
        "result\n",
        "\n",
        "#由上面的案例可以看到，如果是torch.view(参数a，-1)，则表示在参数b未知，参数a已知的情况下自动补齐列向量长度，在这个例子中a=2，tt3总共由6个元素，则b=6/2=3。"
      ],
      "metadata": {
        "colab": {
          "base_uri": "https://localhost:8080/"
        },
        "id": "KxktK1gYtt6y",
        "outputId": "48b83d8a-cbc0-4b3a-c8f7-a4b20e8e11bc"
      },
      "execution_count": 17,
      "outputs": [
        {
          "output_type": "execute_result",
          "data": {
            "text/plain": [
              "tensor([[1, 2, 3],\n",
              "        [4, 5, 6]])"
            ]
          },
          "metadata": {},
          "execution_count": 17
        }
      ]
    }
  ]
}