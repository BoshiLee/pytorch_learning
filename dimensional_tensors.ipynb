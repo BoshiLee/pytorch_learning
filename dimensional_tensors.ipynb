{
  "nbformat": 4,
  "nbformat_minor": 0,
  "metadata": {
    "colab": {
      "name": "dimensional_tensors.ipynb",
      "provenance": [],
      "authorship_tag": "ABX9TyP0iZMq+vM0RrTqaEE+k3rx",
      "include_colab_link": true
    },
    "kernelspec": {
      "name": "python3",
      "display_name": "Python 3"
    },
    "language_info": {
      "name": "python"
    }
  },
  "cells": [
    {
      "cell_type": "markdown",
      "metadata": {
        "id": "view-in-github",
        "colab_type": "text"
      },
      "source": [
        "<a href=\"https://colab.research.google.com/github/BoshiLee/pytorch_learning/blob/main/dimensional_tensors.ipynb\" target=\"_parent\"><img src=\"https://colab.research.google.com/assets/colab-badge.svg\" alt=\"Open In Colab\"/></a>"
      ]
    },
    {
      "cell_type": "code",
      "execution_count": 1,
      "metadata": {
        "colab": {
          "base_uri": "https://localhost:8080/"
        },
        "id": "LIf0Y6-ptAVu",
        "outputId": "01ff4914-9eb1-483d-9a9b-860bc11e6011"
      },
      "outputs": [
        {
          "output_type": "stream",
          "name": "stdout",
          "text": [
            "Requirement already satisfied: torch in /usr/local/lib/python3.7/dist-packages (1.10.0+cu111)\n",
            "Requirement already satisfied: typing-extensions in /usr/local/lib/python3.7/dist-packages (from torch) (3.10.0.2)\n"
          ]
        }
      ],
      "source": [
        "pip install torch"
      ]
    },
    {
      "cell_type": "code",
      "source": [
        "import torch"
      ],
      "metadata": {
        "id": "TievGRb2tdI8"
      },
      "execution_count": 5,
      "outputs": []
    },
    {
      "cell_type": "markdown",
      "source": [
        "建立一維陣列"
      ],
      "metadata": {
        "id": "EyPv5vrTwMET"
      }
    },
    {
      "cell_type": "code",
      "source": [
        "one_d = torch.arange(1, 5)\n",
        "one_d"
      ],
      "metadata": {
        "colab": {
          "base_uri": "https://localhost:8080/"
        },
        "id": "NAo1Td4GwPCa",
        "outputId": "c6112dce-e68c-4105-ba15-e81f17e3e18a"
      },
      "execution_count": 8,
      "outputs": [
        {
          "output_type": "execute_result",
          "data": {
            "text/plain": [
              "tensor([1, 2, 3, 4])"
            ]
          },
          "metadata": {},
          "execution_count": 8
        }
      ]
    },
    {
      "cell_type": "markdown",
      "source": [
        "建立 1 ~ 100 間隔為 3 的一維陣列"
      ],
      "metadata": {
        "id": "4NISISgXwsUq"
      }
    },
    {
      "cell_type": "code",
      "source": [
        "one_d_gap_three = torch.arange(1, 100, 3)\n",
        "one_d_gap_three"
      ],
      "metadata": {
        "colab": {
          "base_uri": "https://localhost:8080/"
        },
        "id": "swl7TQzgw0gI",
        "outputId": "0e7e7eaf-6874-4d4f-d90d-7955981f02e3"
      },
      "execution_count": 15,
      "outputs": [
        {
          "output_type": "execute_result",
          "data": {
            "text/plain": [
              "tensor([ 1,  4,  7, 10, 13, 16, 19, 22, 25, 28, 31, 34, 37, 40, 43, 46, 49, 52,\n",
              "        55, 58, 61, 64, 67, 70, 73, 76, 79, 82, 85, 88, 91, 94, 97])"
            ]
          },
          "metadata": {},
          "execution_count": 15
        }
      ]
    },
    {
      "cell_type": "markdown",
      "source": [
        "可以發現建立時不會包含地二個餐數 100"
      ],
      "metadata": {
        "id": "QivD7FJ2xJsn"
      }
    },
    {
      "cell_type": "markdown",
      "source": [
        "建立二維陣列"
      ],
      "metadata": {
        "id": "VA6h8iAtJ-ad"
      }
    },
    {
      "cell_type": "code",
      "source": [
        "two_d = one_d_gap_three.view(11, 3)\n",
        "print(two_d)"
      ],
      "metadata": {
        "colab": {
          "base_uri": "https://localhost:8080/"
        },
        "id": "qOPegvpPKAkD",
        "outputId": "770945ff-eab3-4336-b2e9-ec0f94862b3c"
      },
      "execution_count": 19,
      "outputs": [
        {
          "output_type": "stream",
          "name": "stdout",
          "text": [
            "tensor([[ 1,  4,  7],\n",
            "        [10, 13, 16],\n",
            "        [19, 22, 25],\n",
            "        [28, 31, 34],\n",
            "        [37, 40, 43],\n",
            "        [46, 49, 52],\n",
            "        [55, 58, 61],\n",
            "        [64, 67, 70],\n",
            "        [73, 76, 79],\n",
            "        [82, 85, 88],\n",
            "        [91, 94, 97]])\n"
          ]
        }
      ]
    },
    {
      "cell_type": "markdown",
      "source": [
        "印出陣列的維度"
      ],
      "metadata": {
        "id": "V3j5jGkbK3UX"
      }
    },
    {
      "cell_type": "code",
      "source": [
        "print(two_d.dim())"
      ],
      "metadata": {
        "colab": {
          "base_uri": "https://localhost:8080/"
        },
        "id": "VGuEC55lK6iX",
        "outputId": "54f54fcc-f46b-43f2-f2fb-b6bc027f6713"
      },
      "execution_count": 21,
      "outputs": [
        {
          "output_type": "stream",
          "name": "stdout",
          "text": [
            "2\n"
          ]
        }
      ]
    },
    {
      "cell_type": "markdown",
      "source": [
        "取得 2 維陣列元素"
      ],
      "metadata": {
        "id": "svwhzIc-LSu-"
      }
    },
    {
      "cell_type": "code",
      "source": [
        "print(two_d[0, 2])"
      ],
      "metadata": {
        "colab": {
          "base_uri": "https://localhost:8080/"
        },
        "id": "wZvz037sLSbn",
        "outputId": "9b801653-8a53-4cc4-e524-6101d7394d00"
      },
      "execution_count": 22,
      "outputs": [
        {
          "output_type": "stream",
          "name": "stdout",
          "text": [
            "tensor(7)\n"
          ]
        }
      ]
    },
    {
      "cell_type": "markdown",
      "source": [
        "建立其他維度的陣列"
      ],
      "metadata": {
        "id": "c04-BEhAMJUx"
      }
    },
    {
      "cell_type": "code",
      "source": [
        "torch.arange(1, 51).view(2, 5, 5)"
      ],
      "metadata": {
        "colab": {
          "base_uri": "https://localhost:8080/"
        },
        "id": "WW1bx8UkMPVV",
        "outputId": "ceb5d7de-1391-4e67-d3df-8c2dd925ae22"
      },
      "execution_count": 25,
      "outputs": [
        {
          "output_type": "execute_result",
          "data": {
            "text/plain": [
              "tensor([[[ 1,  2,  3,  4,  5],\n",
              "         [ 6,  7,  8,  9, 10],\n",
              "         [11, 12, 13, 14, 15],\n",
              "         [16, 17, 18, 19, 20],\n",
              "         [21, 22, 23, 24, 25]],\n",
              "\n",
              "        [[26, 27, 28, 29, 30],\n",
              "         [31, 32, 33, 34, 35],\n",
              "         [36, 37, 38, 39, 40],\n",
              "         [41, 42, 43, 44, 45],\n",
              "         [46, 47, 48, 49, 50]]])"
            ]
          },
          "metadata": {},
          "execution_count": 25
        }
      ]
    }
  ]
}