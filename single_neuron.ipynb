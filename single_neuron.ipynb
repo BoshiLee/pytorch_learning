{
  "nbformat": 4,
  "nbformat_minor": 0,
  "metadata": {
    "colab": {
      "name": "single_neuron.ipynb",
      "provenance": [],
      "authorship_tag": "ABX9TyO07xyWqQn+fBdmjLaPMOaI",
      "include_colab_link": true
    },
    "kernelspec": {
      "name": "python3",
      "display_name": "Python 3"
    },
    "language_info": {
      "name": "python"
    }
  },
  "cells": [
    {
      "cell_type": "markdown",
      "metadata": {
        "id": "view-in-github",
        "colab_type": "text"
      },
      "source": [
        "<a href=\"https://colab.research.google.com/github/BoshiLee/pytorch_learning/blob/main/single_neuron.ipynb\" target=\"_parent\"><img src=\"https://colab.research.google.com/assets/colab-badge.svg\" alt=\"Open In Colab\"/></a>"
      ]
    },
    {
      "cell_type": "code",
      "execution_count": 1,
      "metadata": {
        "id": "mGMY9riONSqg"
      },
      "outputs": [],
      "source": [
        "import numpy as np\n",
        "import matplotlib.pyplot as plt"
      ]
    },
    {
      "cell_type": "markdown",
      "source": [
        "## 輸入"
      ],
      "metadata": {
        "id": "udrytEH2debw"
      }
    },
    {
      "cell_type": "code",
      "source": [
        "x1 = np.arange(-1.0, 1.0, 0.2)\n",
        "x2 = np.arange(-1.0, 1.0, 0.2)\n",
        "\n",
        "sigmoid = lambda x: 1/(1 + np.exp(-x))"
      ],
      "metadata": {
        "id": "crz0zmIiNW_8"
      },
      "execution_count": 2,
      "outputs": []
    },
    {
      "cell_type": "markdown",
      "source": [
        "## 建立 MODEL"
      ],
      "metadata": {
        "id": "Lmd4h0CsdK_h"
      }
    },
    {
      "cell_type": "code",
      "source": [
        "class Single_Neuron:\n",
        "  def __init__(self, x1, x2):\n",
        "    self.x1 = x1\n",
        "    self.x2 = x2\n",
        "    self.bias = 0.1\n",
        "    self.weight = [2.5, 3.0]\n",
        "    self.z = []\n",
        "  \n",
        "  def forward(self):\n",
        "    u1 = x1 * self.weight[0]\n",
        "    u2 = x2 * self.weight[1]\n",
        "    for i in range(10):\n",
        "      u = u1[i] + u2 + self.bias\n",
        "      y = sigmoid(u)\n",
        "      self.z.append(y)\n",
        "    return self.z\n",
        "  "
      ],
      "metadata": {
        "id": "1XIuamJfbFNa"
      },
      "execution_count": 7,
      "outputs": []
    },
    {
      "cell_type": "markdown",
      "source": [
        "## 預測加繪製"
      ],
      "metadata": {
        "id": "tHjAcW5VdRJ9"
      }
    },
    {
      "cell_type": "code",
      "source": [
        "model = Single_Neuron(x1, x2)\n",
        "z = model.forward()\n",
        "plt.imshow(z, \"gray\", vmin=0.0, vmax=1.0)\n",
        "plt.colorbar()\n"
      ],
      "metadata": {
        "colab": {
          "base_uri": "https://localhost:8080/",
          "height": 286
        },
        "id": "tNaKOkqRclEE",
        "outputId": "a1a349c8-d58f-49f0-b297-8d30e4318274"
      },
      "execution_count": 8,
      "outputs": [
        {
          "output_type": "execute_result",
          "data": {
            "text/plain": [
              "<matplotlib.colorbar.Colorbar at 0x7fa4beb12650>"
            ]
          },
          "metadata": {},
          "execution_count": 8
        },
        {
          "output_type": "display_data",
          "data": {
            "image/png": "[encoded data removed]",
            "text/plain": [
              "<Figure size 432x288 with 2 Axes>"
            ]
          },
          "metadata": {
            "needs_background": "light"
          }
        }
      ]
    }
  ]
}