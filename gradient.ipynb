{
  "nbformat": 4,
  "nbformat_minor": 0,
  "metadata": {
    "colab": {
      "name": "gradient.ipynb",
      "provenance": [],
      "authorship_tag": "ABX9TyPECa1rfR9kKJz/OXUB7ayd",
      "include_colab_link": true
    },
    "kernelspec": {
      "name": "python3",
      "display_name": "Python 3"
    },
    "language_info": {
      "name": "python"
    }
  },
  "cells": [
    {
      "cell_type": "markdown",
      "metadata": {
        "id": "view-in-github",
        "colab_type": "text"
      },
      "source": [
        "<a href=\"https://colab.research.google.com/github/BoshiLee/pytorch_learning/blob/main/gradient.ipynb\" target=\"_parent\"><img src=\"https://colab.research.google.com/assets/colab-badge.svg\" alt=\"Open In Colab\"/></a>"
      ]
    },
    {
      "cell_type": "markdown",
      "source": [
        "![gardient.jpg](https://imgur.com/bx7rrLU.jpg)"
      ],
      "metadata": {
        "id": "f91JcspwnJjb"
      }
    },
    {
      "cell_type": "code",
      "execution_count": 2,
      "metadata": {
        "colab": {
          "base_uri": "https://localhost:8080/"
        },
        "id": "_NNKYaHJnBxi",
        "outputId": "01c5feb2-6409-418f-d6e5-a469e6a75711"
      },
      "outputs": [
        {
          "output_type": "stream",
          "name": "stdout",
          "text": [
            "Requirement already satisfied: torch in /usr/local/lib/python3.7/dist-packages (1.10.0+cu111)\n",
            "Requirement already satisfied: typing-extensions in /usr/local/lib/python3.7/dist-packages (from torch) (3.10.0.2)\n"
          ]
        }
      ],
      "source": [
        "pip install torch"
      ]
    },
    {
      "cell_type": "code",
      "source": [
        "import torch"
      ],
      "metadata": {
        "id": "ZZff1oGZniaB"
      },
      "execution_count": 3,
      "outputs": []
    },
    {
      "cell_type": "code",
      "source": [
        "x = torch.tensor(2.0, requires_grad=True) #要對 x 微分所以要選 true\n",
        "y = 9*x**4 + 2*x**3 + 3*x**2 + 10\n",
        "y.backward() # calculate dy/dx\n",
        "x.grad #取得 x gradient 的值"
      ],
      "metadata": {
        "colab": {
          "base_uri": "https://localhost:8080/"
        },
        "id": "4DlW8RH7os30",
        "outputId": "bdcee419-f8fb-4d8f-b75d-c114399c84b4"
      },
      "execution_count": 6,
      "outputs": [
        {
          "output_type": "stream",
          "name": "stdout",
          "text": [
            "None\n"
          ]
        },
        {
          "output_type": "execute_result",
          "data": {
            "text/plain": [
              "tensor(324.)"
            ]
          },
          "metadata": {},
          "execution_count": 6
        }
      ]
    },
    {
      "cell_type": "code",
      "source": [
        "x = torch.tensor(4.0, requires_grad=True) #要對 x 微分所以要選 true\n",
        "z = torch.tensor(3.0, requires_grad=True)\n",
        "y = 3*x**2 + z**3\n",
        "y.backward() # calculate dy/dx\n",
        "print(x.grad) # 3 * 2x = 24\n",
        "print(z.grad) # 3 * 3x^2 = 27\n"
      ],
      "metadata": {
        "colab": {
          "base_uri": "https://localhost:8080/"
        },
        "id": "ZjycM8hhTwwJ",
        "outputId": "2016ce5d-9b22-4b3f-8772-8c3627e84160"
      },
      "execution_count": 13,
      "outputs": [
        {
          "output_type": "stream",
          "name": "stdout",
          "text": [
            "tensor(24.)\n",
            "tensor(27.)\n"
          ]
        }
      ]
    }
  ]
}