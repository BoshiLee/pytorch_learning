{
  "nbformat": 4,
  "nbformat_minor": 0,
  "metadata": {
    "colab": {
      "name": "Feed forward process sample.ipynb",
      "provenance": [],
      "authorship_tag": "ABX9TyNcve+wjglB7FdkgZhAnZ5Y",
      "include_colab_link": true
    },
    "kernelspec": {
      "name": "python3",
      "display_name": "Python 3"
    },
    "language_info": {
      "name": "python"
    }
  },
  "cells": [
    {
      "cell_type": "markdown",
      "metadata": {
        "id": "view-in-github",
        "colab_type": "text"
      },
      "source": [
        "<a href=\"https://colab.research.google.com/github/BoshiLee/pytorch_learning/blob/main/Feed_forward_process_sample.ipynb\" target=\"_parent\"><img src=\"https://colab.research.google.com/assets/colab-badge.svg\" alt=\"Open In Colab\"/></a>"
      ]
    },
    {
      "cell_type": "markdown",
      "source": [
        "![](https://imgur.com/JksFoMm.jpg)\n",
        "\n",
        "此網路為一層 hidden layer 求輸出\n",
        "\n",
        "輸入層 x1 = 2, x2 = 2, bias = 1\n",
        "\n",
        "1. 第一層 weights\n",
        "\n",
        "  w11 = [-4, -1/5]\n",
        "  w12 = [-1, -1]\n",
        "  w13 = [12, 3]\n",
        "\n",
        "  第一層書為 sigmoid([2, 0.6]) => [0.88, 0.64]\n",
        "\n",
        "2. 輸出層\n",
        "  w21 = [1.5]\n",
        "  w22 = [1]\n",
        "  w23 = [0.5]\n",
        "\n",
        "  結果為 sigmoid([2.46]) => [0.92]"
      ],
      "metadata": {
        "id": "RyrZS8F5ZNQV"
      }
    },
    {
      "cell_type": "code",
      "source": [
        ""
      ],
      "metadata": {
        "id": "N0wRrRm2adBO"
      },
      "execution_count": null,
      "outputs": []
    }
  ]
}